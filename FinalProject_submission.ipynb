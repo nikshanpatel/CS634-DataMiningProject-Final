{
  "nbformat": 4,
  "nbformat_minor": 0,
  "metadata": {
    "colab": {
      "name": "FinalProject_finalV.ipynb",
      "provenance": [],
      "collapsed_sections": [],
      "toc_visible": true,
      "include_colab_link": true
    },
    "kernelspec": {
      "name": "python3",
      "display_name": "Python 3"
    },
    "accelerator": "GPU"
  },
  "cells": [
    {
      "cell_type": "markdown",
      "metadata": {
        "id": "view-in-github",
        "colab_type": "text"
      },
      "source": [
        "<a href=\"https://colab.research.google.com/github/nikshanpatel/CS634-DataMiningProject-Final/blob/master/FinalProject_submission.ipynb\" target=\"_parent\"><img src=\"https://colab.research.google.com/assets/colab-badge.svg\" alt=\"Open In Colab\"/></a>"
      ]
    },
    {
      "cell_type": "markdown",
      "metadata": {
        "id": "COobrKASudvs",
        "colab_type": "text"
      },
      "source": [
        "# Import Data and APIs\n",
        "\n",
        "\n",
        "---\n",
        "\n"
      ]
    },
    {
      "cell_type": "markdown",
      "metadata": {
        "id": "59MnlDV1xmn5",
        "colab_type": "text"
      },
      "source": [
        "## Download Data from Kaggle API"
      ]
    },
    {
      "cell_type": "code",
      "metadata": {
        "id": "KbV90ksBqx0E",
        "colab_type": "code",
        "outputId": "506a37af-3b01-4b82-d387-cd9f068bdd21",
        "colab": {
          "resources": {
            "http://localhost:8080/nbextensions/google.colab/files.js": {
              "data": "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",
              "ok": true,
              "headers": [
                [
                  "content-type",
                  "application/javascript"
                ]
              ],
              "status": 200,
              "status_text": ""
            }
          },
          "base_uri": "https://localhost:8080/",
          "height": 67
        }
      },
      "source": [
        "from google.colab import drive\n",
        "from google.colab import files \n",
        "uploaded = files.upload()"
      ],
      "execution_count": 2,
      "outputs": [
        {
          "output_type": "display_data",
          "data": {
            "text/html": [
              "\n",
              "     <input type=\"file\" id=\"files-b7a76aac-8e1d-4617-b0bc-244c10ab6e5b\" name=\"files[]\" multiple disabled />\n",
              "     <output id=\"result-b7a76aac-8e1d-4617-b0bc-244c10ab6e5b\">\n",
              "      Upload widget is only available when the cell has been executed in the\n",
              "      current browser session. Please rerun this cell to enable.\n",
              "      </output>\n",
              "      <script src=\"/nbextensions/google.colab/files.js\"></script> "
            ],
            "text/plain": [
              "<IPython.core.display.HTML object>"
            ]
          },
          "metadata": {
            "tags": []
          }
        },
        {
          "output_type": "stream",
          "text": [
            "Saving kaggle.json to kaggle (1).json\n"
          ],
          "name": "stdout"
        }
      ]
    },
    {
      "cell_type": "code",
      "metadata": {
        "id": "h2kxUQzFrMUO",
        "colab_type": "code",
        "outputId": "13212f9a-0596-4644-c4ba-3bdd5123426e",
        "colab": {
          "base_uri": "https://localhost:8080/",
          "height": 148
        }
      },
      "source": [
        "!mkdir -p ~/.kaggle\n",
        "!cp kaggle.json ~/.kaggle/\n",
        "!apt-get install p7zip-full"
      ],
      "execution_count": 3,
      "outputs": [
        {
          "output_type": "stream",
          "text": [
            "Reading package lists... Done\n",
            "Building dependency tree       \n",
            "Reading state information... Done\n",
            "p7zip-full is already the newest version (16.02+dfsg-6).\n",
            "The following package was automatically installed and is no longer required:\n",
            "  libnvidia-common-430\n",
            "Use 'apt autoremove' to remove it.\n",
            "0 upgraded, 0 newly installed, 0 to remove and 7 not upgraded.\n"
          ],
          "name": "stdout"
        }
      ]
    },
    {
      "cell_type": "code",
      "metadata": {
        "id": "FkGG_fKrsCst",
        "colab_type": "code",
        "colab": {}
      },
      "source": [
        "# to load kaggle API\n",
        "!pip install -q kaggle "
      ],
      "execution_count": 0,
      "outputs": []
    },
    {
      "cell_type": "code",
      "metadata": {
        "id": "fnEz8IVSr5H9",
        "colab_type": "code",
        "outputId": "66f46869-cf40-474b-9442-6884d35f5e36",
        "colab": {
          "base_uri": "https://localhost:8080/",
          "height": 217
        }
      },
      "source": [
        "# to download the dataset from kaggle\n",
        "!kaggle competitions download -c nyc-taxi-trip-duration"
      ],
      "execution_count": 5,
      "outputs": [
        {
          "output_type": "stream",
          "text": [
            "Warning: Your Kaggle API key is readable by other users on this system! To fix this, you can run 'chmod 600 /root/.kaggle/kaggle.json'\n",
            "Warning: Looks like you're using an outdated API Version, please consider updating (server 1.5.6 / client 1.5.4)\n",
            "Downloading sample_submission.zip to /content\n",
            "  0% 0.00/2.49M [00:00<?, ?B/s]\n",
            "100% 2.49M/2.49M [00:00<00:00, 82.7MB/s]\n",
            "Downloading train.zip to /content\n",
            " 78% 49.0M/62.9M [00:00<00:00, 57.7MB/s]\n",
            "100% 62.9M/62.9M [00:00<00:00, 107MB/s] \n",
            "Downloading test.zip to /content\n",
            " 25% 5.00M/20.3M [00:00<00:00, 22.5MB/s]\n",
            "100% 20.3M/20.3M [00:00<00:00, 67.2MB/s]\n"
          ],
          "name": "stdout"
        }
      ]
    },
    {
      "cell_type": "code",
      "metadata": {
        "id": "g8shQPkltkyM",
        "colab_type": "code",
        "outputId": "fd7aaf05-358d-4a13-d6a1-848653d20c1f",
        "colab": {
          "base_uri": "https://localhost:8080/",
          "height": 316
        }
      },
      "source": [
        "# to unzip\n",
        "!7za e test.zip"
      ],
      "execution_count": 6,
      "outputs": [
        {
          "output_type": "stream",
          "text": [
            "\n",
            "7-Zip (a) [64] 16.02 : Copyright (c) 1999-2016 Igor Pavlov : 2016-05-21\n",
            "p7zip Version 16.02 (locale=en_US.UTF-8,Utf16=on,HugeFiles=on,64 bits,2 CPUs Intel(R) Xeon(R) CPU @ 2.20GHz (406F0),ASM,AES-NI)\n",
            "\n",
            "Scanning the drive for archives:\n",
            "  0M Scan\b\b\b\b\b\b\b\b\b         \b\b\b\b\b\b\b\b\b1 file, 21327372 bytes (21 MiB)\n",
            "\n",
            "Extracting archive: test.zip\n",
            "--\n",
            "Path = test.zip\n",
            "Type = zip\n",
            "Physical Size = 21327372\n",
            "\n",
            "  0%\b\b\b\b    \b\b\b\b 32% - test.csv\b\b\b\b\b\b\b\b\b\b\b\b\b\b\b               \b\b\b\b\b\b\b\b\b\b\b\b\b\b\b 57% - test.csv\b\b\b\b\b\b\b\b\b\b\b\b\b\b\b               \b\b\b\b\b\b\b\b\b\b\b\b\b\b\b 86% - test.csv\b\b\b\b\b\b\b\b\b\b\b\b\b\b\b               \b\b\b\b\b\b\b\b\b\b\b\b\b\b\bEverything is Ok\n",
            "\n",
            "Size:       70794289\n",
            "Compressed: 21327372\n"
          ],
          "name": "stdout"
        }
      ]
    },
    {
      "cell_type": "code",
      "metadata": {
        "id": "iJpp7SSVuAh-",
        "colab_type": "code",
        "outputId": "2e82d01c-362e-4a47-edcc-bf2e45bdbb76",
        "colab": {
          "base_uri": "https://localhost:8080/",
          "height": 316
        }
      },
      "source": [
        "!7za e train.zip"
      ],
      "execution_count": 7,
      "outputs": [
        {
          "output_type": "stream",
          "text": [
            "\n",
            "7-Zip (a) [64] 16.02 : Copyright (c) 1999-2016 Igor Pavlov : 2016-05-21\n",
            "p7zip Version 16.02 (locale=en_US.UTF-8,Utf16=on,HugeFiles=on,64 bits,2 CPUs Intel(R) Xeon(R) CPU @ 2.20GHz (406F0),ASM,AES-NI)\n",
            "\n",
            "Scanning the drive for archives:\n",
            "  0M Scan\b\b\b\b\b\b\b\b\b         \b\b\b\b\b\b\b\b\b1 file, 65967663 bytes (63 MiB)\n",
            "\n",
            "Extracting archive: train.zip\n",
            "--\n",
            "Path = train.zip\n",
            "Type = zip\n",
            "Physical Size = 65967663\n",
            "\n",
            "  0%\b\b\b\b    \b\b\b\b 10% - train.csv\b\b\b\b\b\b\b\b\b\b\b\b\b\b\b\b                \b\b\b\b\b\b\b\b\b\b\b\b\b\b\b\b 21% - train.csv\b\b\b\b\b\b\b\b\b\b\b\b\b\b\b\b                \b\b\b\b\b\b\b\b\b\b\b\b\b\b\b\b 31% - train.csv\b\b\b\b\b\b\b\b\b\b\b\b\b\b\b\b                \b\b\b\b\b\b\b\b\b\b\b\b\b\b\b\b 41% - train.csv\b\b\b\b\b\b\b\b\b\b\b\b\b\b\b\b                \b\b\b\b\b\b\b\b\b\b\b\b\b\b\b\b 51% - train.csv\b\b\b\b\b\b\b\b\b\b\b\b\b\b\b\b                \b\b\b\b\b\b\b\b\b\b\b\b\b\b\b\b 59% - train.csv\b\b\b\b\b\b\b\b\b\b\b\b\b\b\b\b                \b\b\b\b\b\b\b\b\b\b\b\b\b\b\b\b 69% - train.csv\b\b\b\b\b\b\b\b\b\b\b\b\b\b\b\b                \b\b\b\b\b\b\b\b\b\b\b\b\b\b\b\b 81% - train.csv\b\b\b\b\b\b\b\b\b\b\b\b\b\b\b\b                \b\b\b\b\b\b\b\b\b\b\b\b\b\b\b\b 92% - train.csv\b\b\b\b\b\b\b\b\b\b\b\b\b\b\b\b                \b\b\b\b\b\b\b\b\b\b\b\b\b\b\b\bEverything is Ok\n",
            "\n",
            "Size:       200589097\n",
            "Compressed: 65967663\n"
          ],
          "name": "stdout"
        }
      ]
    },
    {
      "cell_type": "code",
      "metadata": {
        "id": "K7EFCs7euVUV",
        "colab_type": "code",
        "outputId": "d401c6cc-2233-410b-a1b1-52fa7de2d6e1",
        "colab": {
          "base_uri": "https://localhost:8080/",
          "height": 316
        }
      },
      "source": [
        "!7za e sample_submission.zip"
      ],
      "execution_count": 8,
      "outputs": [
        {
          "output_type": "stream",
          "text": [
            "\n",
            "7-Zip (a) [64] 16.02 : Copyright (c) 1999-2016 Igor Pavlov : 2016-05-21\n",
            "p7zip Version 16.02 (locale=en_US.UTF-8,Utf16=on,HugeFiles=on,64 bits,2 CPUs Intel(R) Xeon(R) CPU @ 2.20GHz (406F0),ASM,AES-NI)\n",
            "\n",
            "Scanning the drive for archives:\n",
            "  0M Scan\b\b\b\b\b\b\b\b\b         \b\b\b\b\b\b\b\b\b1 file, 2615198 bytes (2554 KiB)\n",
            "\n",
            "Extracting archive: sample_submission.zip\n",
            "--\n",
            "Path = sample_submission.zip\n",
            "Type = zip\n",
            "Physical Size = 2615198\n",
            "\n",
            "  0%\b\b\b\b    \b\b\b\bEverything is Ok\n",
            "\n",
            "Size:       8751893\n",
            "Compressed: 2615198\n"
          ],
          "name": "stdout"
        }
      ]
    },
    {
      "cell_type": "markdown",
      "metadata": {
        "id": "y_FZ1S7Yujbu",
        "colab_type": "text"
      },
      "source": [
        "## Import APIs"
      ]
    },
    {
      "cell_type": "code",
      "metadata": {
        "id": "j6m-sxTxuku9",
        "colab_type": "code",
        "colab": {}
      },
      "source": [
        "# import the necessary libraries that are required to run this notebook\n",
        "import os\n",
        "import time\n",
        "import json\n",
        "import numpy as np\n",
        "import pandas as pd\n",
        "import matplotlib.pyplot as plt\n",
        "from matplotlib.ticker import StrMethodFormatter\n",
        "from sklearn import linear_model\n",
        "from sklearn.model_selection import train_test_split\n",
        "from sklearn.linear_model import LinearRegression\n",
        "from sklearn.tree import DecisionTreeRegressor\n",
        "from sklearn.ensemble import RandomForestRegressor\n",
        "\n",
        "from sklearn import preprocessing\n",
        "from sklearn import metrics\n",
        "import datetime\n",
        "\n",
        "import seaborn as sns #for making plots\n",
        "\n",
        "# scikit-learn's LinearRegression doesn't calculate p-value so we will need to extend the class to do it:\n",
        "from sklearn import datasets, linear_model\n",
        "from sklearn.linear_model import LinearRegression\n",
        "import statsmodels.api as sm\n",
        "from scipy import stats\n",
        "\n",
        "\n",
        "from xgboost import XGBRegressor\n",
        "%matplotlib inline"
      ],
      "execution_count": 0,
      "outputs": []
    },
    {
      "cell_type": "markdown",
      "metadata": {
        "id": "zPdtUMnFzdgx",
        "colab_type": "text"
      },
      "source": [
        "**MatPlotlib**\n",
        "\n",
        "we will be using the MatPlotLib for our charting requirements as it is an amazing visualization library in Python for 2D plots of arrays. Matplotlib is a multi-platform data visualization library built on NumPy arrays and designed to work with the broader SciPy stack."
      ]
    },
    {
      "cell_type": "markdown",
      "metadata": {
        "id": "kTu7Swkfu-Sa",
        "colab_type": "text"
      },
      "source": [
        "**Basemap**\n",
        "\n",
        "We will utilize the matplotlib basemap toolkit library for plotting the maps. It is very lightweight and easy to use. Let's define a map_marker function for our purpose of visualizing long lat marker on the map."
      ]
    },
    {
      "cell_type": "markdown",
      "metadata": {
        "id": "gkt0mCIdyotu",
        "colab_type": "text"
      },
      "source": [
        "**seaborn**\n",
        "\n",
        "seaborn is a high level interface for drawing statistical graphics with Matplotlib. It aims to make visualization a central part of exploring and understanding complex datasets.\n",
        "\n"
      ]
    },
    {
      "cell_type": "code",
      "metadata": {
        "id": "twgCcYj-u2C-",
        "colab_type": "code",
        "outputId": "d7c11afd-5a5d-41e5-9d87-2736cddad39d",
        "colab": {
          "base_uri": "https://localhost:8080/",
          "height": 184
        }
      },
      "source": [
        "!pip install anaconda"
      ],
      "execution_count": 10,
      "outputs": [
        {
          "output_type": "stream",
          "text": [
            "Collecting anaconda\n",
            "  Downloading https://files.pythonhosted.org/packages/bd/81/44690deb604d72ffa59ec6e5552f4ef21afb59c8e2698717c8a6be4af09c/anaconda-0.0.1.1.tar.gz\n",
            "Building wheels for collected packages: anaconda\n",
            "  Building wheel for anaconda (setup.py) ... \u001b[?25l\u001b[?25hdone\n",
            "  Created wheel for anaconda: filename=anaconda-0.0.1.1-cp36-none-any.whl size=1124 sha256=cd29aafb3949e53ede69b864f77af2757f293fd09e6102e04b6f209bab9e9afb\n",
            "  Stored in directory: /root/.cache/pip/wheels/d5/0e/c7/c65ff914fe711a32210656cf0c8d9f28041d78bff409ad96d0\n",
            "Successfully built anaconda\n",
            "Installing collected packages: anaconda\n",
            "Successfully installed anaconda-0.0.1.1\n"
          ],
          "name": "stdout"
        }
      ]
    },
    {
      "cell_type": "code",
      "metadata": {
        "id": "0opzejYQu5Yv",
        "colab_type": "code",
        "outputId": "83e2f103-5217-4512-c559-a821665148d6",
        "colab": {
          "base_uri": "https://localhost:8080/",
          "height": 201
        }
      },
      "source": [
        "!pip install pyproj==1.9.6"
      ],
      "execution_count": 11,
      "outputs": [
        {
          "output_type": "stream",
          "text": [
            "Collecting pyproj==1.9.6\n",
            "\u001b[?25l  Downloading https://files.pythonhosted.org/packages/26/8c/1da0580f334718e04f8bbf74f0515a7fb8185ff96b2560ce080c11aa145b/pyproj-1.9.6.tar.gz (2.8MB)\n",
            "\u001b[K     |████████████████████████████████| 2.8MB 4.9MB/s \n",
            "\u001b[?25hBuilding wheels for collected packages: pyproj\n",
            "  Building wheel for pyproj (setup.py) ... \u001b[?25l\u001b[?25hdone\n",
            "  Created wheel for pyproj: filename=pyproj-1.9.6-cp36-cp36m-linux_x86_64.whl size=3702109 sha256=200986e07d737e200482a3422a2debcf37c5556be0c18bd31f4dbc4e8cad1731\n",
            "  Stored in directory: /root/.cache/pip/wheels/02/cd/b1/a2d6430f74c7a778a43d62f78bec109ca69c732dc9b929142a\n",
            "Successfully built pyproj\n",
            "Installing collected packages: pyproj\n",
            "Successfully installed pyproj-1.9.6\n"
          ],
          "name": "stdout"
        }
      ]
    },
    {
      "cell_type": "markdown",
      "metadata": {
        "id": "E6OHZt3F15To",
        "colab_type": "text"
      },
      "source": [
        "## Load trainning and testing data"
      ]
    },
    {
      "cell_type": "code",
      "metadata": {
        "id": "YPOeJ_85v6yt",
        "colab_type": "code",
        "colab": {}
      },
      "source": [
        "# Load train data\n",
        "train_df = pd.read_csv('./train.csv')\n",
        "\n",
        "# Load test data\n",
        "test_df = pd.read_csv('./test.csv')\n"
      ],
      "execution_count": 0,
      "outputs": []
    },
    {
      "cell_type": "markdown",
      "metadata": {
        "id": "EGmitIUUzN7z",
        "colab_type": "text"
      },
      "source": [
        "# Problem Definition\n",
        "\n",
        "\n",
        "---\n",
        "\n"
      ]
    },
    {
      "cell_type": "markdown",
      "metadata": {
        "id": "BT9-UqbbZrsv",
        "colab_type": "text"
      },
      "source": [
        "**About Competition**\n",
        "\n",
        "\n",
        "\n",
        "In this competition, we are being asked to calculate and predict the distance between a pick- up and drop-off location for a given trip. Part of this notebook we will be analyzing the data and extract the set of features as progress thought out the book. We will be applying number of algorithms to identify the matching one to come up with a model.\n",
        "\n",
        "We will be focusing on number of features \n"
      ]
    },
    {
      "cell_type": "markdown",
      "metadata": {
        "id": "3jpEprID9e1S",
        "colab_type": "text"
      },
      "source": [
        "**Feature details**\n",
        "\n",
        "id - a unique identifier for each trip\n",
        "vendor_id - a code indicating the provider associated with the trip record\n",
        "pickup_datetime - date and time when the meter was engaged\n",
        "dropoff_datetime - date and time when the meter was disengaged\n",
        "passenger_count - the number of passengers in the vehicle (driver entered value)\n",
        "pickup_longitude - the longitude where the meter was engaged\n",
        "pickup_latitude - the latitude where the meter was engaged\n",
        "dropoff_longitude - the longitude where the meter was disengaged\n",
        "dropoff_latitude - the latitude where the meter was disengaged\n",
        "store_and_fwd_flag - This flag indicates whether the trip record was held in vehicle memory before sending to the vendor because the vehicle did not have a connection to the server - Y=store and forward; N=not a store and forward trip.\n",
        "\n",
        "\n",
        "**Label details**\n",
        "\n",
        "trip_duration - duration of the trip in seconds"
      ]
    },
    {
      "cell_type": "markdown",
      "metadata": {
        "id": "yiZJP1rTzVjn",
        "colab_type": "text"
      },
      "source": [
        "# Data Cleaning\n",
        "\n",
        "\n",
        "---\n",
        "\n"
      ]
    },
    {
      "cell_type": "markdown",
      "metadata": {
        "id": "sZ58Hz852JnU",
        "colab_type": "text"
      },
      "source": [
        "Before we turn to the modelling it is time to clean up our training data. We have waited to do this until now to have a more complete overview of the problematic observations. The aim here is to remove trips that have improbable features, such as extreme trip durations or very low average speed.\n",
        "\n",
        "While there might also be a number of bogus trip durations in the test data we shouldn’t be able to predict them in any case (unless there were some real correlations). By removing these training data values we will make our model more robust and more likely to generalise to unseen data, which is always our primary goal in machine learning."
      ]
    },
    {
      "cell_type": "markdown",
      "metadata": {
        "id": "fW2RN2SY11As",
        "colab_type": "text"
      },
      "source": [
        "## Quick Look at the datasets"
      ]
    },
    {
      "cell_type": "code",
      "metadata": {
        "id": "uBufTqWzwUDe",
        "colab_type": "code",
        "colab": {}
      },
      "source": [
        "train_df.shape"
      ],
      "execution_count": 0,
      "outputs": []
    },
    {
      "cell_type": "code",
      "metadata": {
        "id": "12715ViTwZ_c",
        "colab_type": "code",
        "colab": {}
      },
      "source": [
        "test_df.shape"
      ],
      "execution_count": 0,
      "outputs": []
    },
    {
      "cell_type": "code",
      "metadata": {
        "id": "MVoE9pTS0_Uq",
        "colab_type": "code",
        "colab": {}
      },
      "source": [
        "train_df.head()"
      ],
      "execution_count": 0,
      "outputs": []
    },
    {
      "cell_type": "code",
      "metadata": {
        "id": "59MFux4e1lR9",
        "colab_type": "code",
        "colab": {}
      },
      "source": [
        "test_df.head()"
      ],
      "execution_count": 0,
      "outputs": []
    },
    {
      "cell_type": "markdown",
      "metadata": {
        "id": "yMa-Vp542CVh",
        "colab_type": "text"
      },
      "source": [
        "testing set doesn't include dropoff_datetime and duration. This is the target variable that we need to model"
      ]
    },
    {
      "cell_type": "markdown",
      "metadata": {
        "id": "hRoYxKXhp-PU",
        "colab_type": "text"
      },
      "source": [
        "## Check missing data"
      ]
    },
    {
      "cell_type": "code",
      "metadata": {
        "id": "F4tcVRqUzled",
        "colab_type": "code",
        "colab": {}
      },
      "source": [
        "# checking missing data in the training dataset\n",
        "train_df.isna().sum(axis=0)"
      ],
      "execution_count": 0,
      "outputs": []
    },
    {
      "cell_type": "markdown",
      "metadata": {
        "id": "d1UW3g8B2tnK",
        "colab_type": "text"
      },
      "source": [
        "**NOTE:** There is no missing data in training and testing dataset"
      ]
    },
    {
      "cell_type": "markdown",
      "metadata": {
        "id": "ZSGfC-7GqJQa",
        "colab_type": "text"
      },
      "source": [
        "## Remove Outliers"
      ]
    },
    {
      "cell_type": "code",
      "metadata": {
        "id": "VRvHVwFlPoJo",
        "colab_type": "code",
        "colab": {}
      },
      "source": [
        "pd.set_option('display.float_format',lambda x : '%.2f'% x)\n",
        "train_df.describe()"
      ],
      "execution_count": 0,
      "outputs": []
    },
    {
      "cell_type": "markdown",
      "metadata": {
        "id": "Hv83afP5Qg-5",
        "colab_type": "text"
      },
      "source": [
        "The maximum trip duration is ~41 days which doesn't make sense. Also maximum number of passengers is 9, which is also strange. We may need to remove some outliers"
      ]
    },
    {
      "cell_type": "markdown",
      "metadata": {
        "id": "H-yoCWVMKKwt",
        "colab_type": "text"
      },
      "source": [
        "# Feature Engineering"
      ]
    },
    {
      "cell_type": "markdown",
      "metadata": {
        "id": "SwlEYOP-14-m",
        "colab_type": "text"
      },
      "source": [
        "In this section we build new features from the existing ones, trying to find better predictors for our target variable. I prefer to define all these new features in a single code block below and then study them in the following subsections. This does not correspond to a linear analysis but it makes the notebook more readable and ensures that we don’t miss any stray feature definitions."
      ]
    },
    {
      "cell_type": "markdown",
      "metadata": {
        "id": "UpcdTIX5PRCY",
        "colab_type": "text"
      },
      "source": [
        "**Duration**"
      ]
    },
    {
      "cell_type": "code",
      "metadata": {
        "id": "JoAD_tqmV8RR",
        "colab_type": "code",
        "colab": {}
      },
      "source": [
        "train_df.trip_duration.describe()"
      ],
      "execution_count": 0,
      "outputs": []
    },
    {
      "cell_type": "code",
      "metadata": {
        "id": "UmlT066z3hfj",
        "colab_type": "code",
        "colab": {}
      },
      "source": [
        "sns.boxplot(train_df.trip_duration)\n",
        "plt.show()"
      ],
      "execution_count": 0,
      "outputs": []
    },
    {
      "cell_type": "code",
      "metadata": {
        "id": "gG_FJvCs-YNo",
        "colab_type": "code",
        "colab": {}
      },
      "source": [
        "print('there are', train_df[(train_df.trip_duration < 5)].trip_duration.count(), 'trips took less than 5 seconds, and',\n",
        "      train_df[(train_df.trip_duration > 86400)].trip_duration.count(), 'trips took more than one day')"
      ],
      "execution_count": 0,
      "outputs": []
    },
    {
      "cell_type": "code",
      "metadata": {
        "id": "rmDvEnNZEa2d",
        "colab_type": "code",
        "colab": {}
      },
      "source": [
        "# remove instances based on Duration in the testing set\n",
        "# remove these 849\n",
        "train_df = train_df[train_df.trip_duration >= 5]\n",
        "train_df = train_df[train_df.trip_duration < 1000000]"
      ],
      "execution_count": 0,
      "outputs": []
    },
    {
      "cell_type": "code",
      "metadata": {
        "id": "VNmAnV9hERzp",
        "colab_type": "code",
        "colab": {}
      },
      "source": [
        "train_df.shape"
      ],
      "execution_count": 0,
      "outputs": []
    },
    {
      "cell_type": "code",
      "metadata": {
        "id": "3tYk7LxdzJLL",
        "colab_type": "code",
        "colab": {}
      },
      "source": [
        "print(\"There are %d unique id's in Training dataset, which is equal to the number of records\"%(train_df.id.nunique()))"
      ],
      "execution_count": 0,
      "outputs": []
    },
    {
      "cell_type": "code",
      "metadata": {
        "id": "zHhUJ8uVz4V4",
        "colab_type": "code",
        "colab": {}
      },
      "source": [
        "%matplotlib inline\n",
        "\n",
        "sns.set(style=\"white\", palette=\"muted\", color_codes=True)\n",
        "f, axes = plt.subplots(1, 1, figsize=(11, 7), sharex=True)\n",
        "sns.despine(left=True)\n",
        "sns.distplot(np.log(train_df['trip_duration'].values+1), axlabel = 'Log(trip_duration)', label = 'log(trip_duration)', bins = 50, color=\"r\")\n",
        "\n",
        "plt.setp(axes, yticks=[])\n",
        "plt.tight_layout()\n",
        "plt.show()"
      ],
      "execution_count": 0,
      "outputs": []
    },
    {
      "cell_type": "markdown",
      "metadata": {
        "id": "wbYY2dC2Prvu",
        "colab_type": "text"
      },
      "source": [
        "**Passenger Count**"
      ]
    },
    {
      "cell_type": "code",
      "metadata": {
        "id": "S-53odII5Inc",
        "colab_type": "code",
        "colab": {}
      },
      "source": [
        "# remove instances based on Number of Passengers in the testing set\n",
        "train_df.passenger_count.value_counts()"
      ],
      "execution_count": 0,
      "outputs": []
    },
    {
      "cell_type": "markdown",
      "metadata": {
        "id": "CWbkYlxz6-V8",
        "colab_type": "text"
      },
      "source": [
        "Based on New York regulation \"A maximum of four passengers can ride in traditional cabs; there are also some five passenger cabs that look more like minivans. A child under 7 is allowed to sit on a passenger's lap in the rear seat in addition to the passenger limit.\" We will need to remove instances with more than 6 passengers. Also, there are 53 trips without passenger that we should also remove"
      ]
    },
    {
      "cell_type": "code",
      "metadata": {
        "id": "HVqV2UTp6tdA",
        "colab_type": "code",
        "colab": {}
      },
      "source": [
        "# remove these 53 trips\n",
        "train_df = train_df[train_df.passenger_count <= 6]\n",
        "train_df = train_df[train_df.passenger_count > 0]"
      ],
      "execution_count": 0,
      "outputs": []
    },
    {
      "cell_type": "code",
      "metadata": {
        "id": "5CyqW013ztQO",
        "colab_type": "code",
        "colab": {}
      },
      "source": [
        "pd.options.display.float_format = '{:.2f}'.format #To suppres scientific notation."
      ],
      "execution_count": 0,
      "outputs": []
    },
    {
      "cell_type": "code",
      "metadata": {
        "id": "L-Fyj7z-ORaD",
        "colab_type": "code",
        "colab": {}
      },
      "source": [
        "train_df.shape"
      ],
      "execution_count": 0,
      "outputs": []
    },
    {
      "cell_type": "code",
      "metadata": {
        "id": "uK3IObG9z1Z8",
        "colab_type": "code",
        "colab": {}
      },
      "source": [
        "plt.figure(figsize = (20,5))\n",
        "sns.boxplot(train_df.passenger_count)\n",
        "plt.show()"
      ],
      "execution_count": 0,
      "outputs": []
    },
    {
      "cell_type": "code",
      "metadata": {
        "id": "0NlviUEqz3YJ",
        "colab_type": "code",
        "colab": {}
      },
      "source": [
        "train_df.passenger_count.describe()"
      ],
      "execution_count": 0,
      "outputs": []
    },
    {
      "cell_type": "code",
      "metadata": {
        "id": "KZts-HzDz848",
        "colab_type": "code",
        "colab": {}
      },
      "source": [
        "train_df['passenger_count'] = train_df.passenger_count.map(lambda x: 1 if x == 0 else x)"
      ],
      "execution_count": 0,
      "outputs": []
    },
    {
      "cell_type": "code",
      "metadata": {
        "id": "kD2ljO910FjB",
        "colab_type": "code",
        "colab": {}
      },
      "source": [
        "1457795 - 48 -5"
      ],
      "execution_count": 0,
      "outputs": []
    },
    {
      "cell_type": "code",
      "metadata": {
        "id": "n9XZF_pI0IW7",
        "colab_type": "code",
        "colab": {}
      },
      "source": [
        "# remove these 53 trips\n",
        "train_df = train_df[train_df.passenger_count <= 6]\n",
        "train_df = train_df[train_df.passenger_count > 0]"
      ],
      "execution_count": 0,
      "outputs": []
    },
    {
      "cell_type": "code",
      "metadata": {
        "id": "VwWzOUc70JSY",
        "colab_type": "code",
        "colab": {}
      },
      "source": [
        "train_df.passenger_count.value_counts()"
      ],
      "execution_count": 0,
      "outputs": []
    },
    {
      "cell_type": "code",
      "metadata": {
        "id": "pRVtT8PasrHe",
        "colab_type": "code",
        "colab": {}
      },
      "source": [
        "sns.countplot(train_df.passenger_count)\n",
        "plt.show()"
      ],
      "execution_count": 0,
      "outputs": []
    },
    {
      "cell_type": "code",
      "metadata": {
        "id": "LxFuoY210Nj3",
        "colab_type": "code",
        "colab": {}
      },
      "source": [
        "train_df.shape"
      ],
      "execution_count": 0,
      "outputs": []
    },
    {
      "cell_type": "code",
      "metadata": {
        "id": "P21CT7bk0RtF",
        "colab_type": "code",
        "colab": {}
      },
      "source": [
        "80000/60/60/24"
      ],
      "execution_count": 0,
      "outputs": []
    },
    {
      "cell_type": "markdown",
      "metadata": {
        "id": "0X-qHSumRAia",
        "colab_type": "text"
      },
      "source": [
        "**Distance**"
      ]
    },
    {
      "cell_type": "code",
      "metadata": {
        "id": "QwD5hmG4qN92",
        "colab_type": "code",
        "colab": {}
      },
      "source": [
        "# Get Distance\n",
        "!pip install haversine\n",
        "from haversine import haversine, Unit"
      ],
      "execution_count": 0,
      "outputs": []
    },
    {
      "cell_type": "code",
      "metadata": {
        "id": "JEZ3gjy1TJac",
        "colab_type": "code",
        "colab": {}
      },
      "source": [
        "def calc_distance(df):\n",
        "    pickup = (df['pickup_latitude'], df['pickup_longitude'])\n",
        "    drop = (df['dropoff_latitude'], df['dropoff_longitude'])\n",
        "    return haversine(pickup, drop)"
      ],
      "execution_count": 0,
      "outputs": []
    },
    {
      "cell_type": "code",
      "metadata": {
        "id": "-taaVJAvTwp1",
        "colab_type": "code",
        "colab": {}
      },
      "source": [
        "train_df['distance'] = train_df.apply(lambda x: calc_distance(x), axis = 1)"
      ],
      "execution_count": 0,
      "outputs": []
    },
    {
      "cell_type": "code",
      "metadata": {
        "id": "I1_9Gj7KVWK9",
        "colab_type": "code",
        "colab": {
          "base_uri": "https://localhost:8080/",
          "height": 164
        },
        "outputId": "40ce3b7a-ad27-46bd-acda-bc8c5779a292"
      },
      "source": [
        "train_df.distance.describe()"
      ],
      "execution_count": 0,
      "outputs": [
        {
          "output_type": "execute_result",
          "data": {
            "text/plain": [
              "count   1457742.00\n",
              "mean          3.44\n",
              "std           4.30\n",
              "min           0.00\n",
              "25%           1.23\n",
              "50%           2.10\n",
              "75%           3.88\n",
              "max        1240.91\n",
              "Name: distance, dtype: float64"
            ]
          },
          "metadata": {
            "tags": []
          },
          "execution_count": 43
        }
      ]
    },
    {
      "cell_type": "code",
      "metadata": {
        "id": "OfJFy4viVqs0",
        "colab_type": "code",
        "colab": {
          "base_uri": "https://localhost:8080/",
          "height": 283
        },
        "outputId": "38499b53-c1ea-4ae8-993b-54b608b059c5"
      },
      "source": [
        "sns.boxplot(train_df.distance)\n",
        "plt.show()"
      ],
      "execution_count": 0,
      "outputs": [
        {
          "output_type": "display_data",
          "data": {
            "image/png": "[encoded data removed]",
            "text/plain": [
              "<Figure size 432x288 with 1 Axes>"
            ]
          },
          "metadata": {
            "tags": []
          }
        }
      ]
    },
    {
      "cell_type": "code",
      "metadata": {
        "id": "y4BsUhlp1yAc",
        "colab_type": "code",
        "colab": {
          "base_uri": "https://localhost:8080/",
          "height": 428
        },
        "outputId": "828d3688-ad64-4665-a1cb-b8f67d662bd0"
      },
      "source": [
        "train_df.trip_duration.groupby(pd.cut(train_df.trip_duration, np.arange(1,max(train_df.trip_duration),3600))).count()"
      ],
      "execution_count": 0,
      "outputs": [
        {
          "output_type": "execute_result",
          "data": {
            "text/plain": [
              "trip_duration\n",
              "(1, 3601]         1445449\n",
              "(3601, 7201]        10045\n",
              "(7201, 10801]         141\n",
              "(10801, 14401]         35\n",
              "(14401, 18001]          5\n",
              "(18001, 21601]         11\n",
              "(21601, 25201]         11\n",
              "(25201, 28801]         13\n",
              "(28801, 32401]         17\n",
              "(32401, 36001]          8\n",
              "(36001, 39601]         13\n",
              "(39601, 43201]          6\n",
              "(43201, 46801]          8\n",
              "(46801, 50401]          5\n",
              "(50401, 54001]          7\n",
              "(54001, 57601]          5\n",
              "(57601, 61201]         10\n",
              "(61201, 64801]         10\n",
              "(64801, 68401]         10\n",
              "(68401, 72001]          5\n",
              "(72001, 75601]         10\n",
              "(75601, 79201]         17\n",
              "(79201, 82801]         63\n",
              "Name: trip_duration, dtype: int64"
            ]
          },
          "metadata": {
            "tags": []
          },
          "execution_count": 45
        }
      ]
    },
    {
      "cell_type": "code",
      "metadata": {
        "id": "6VbDVVr6WLmS",
        "colab_type": "code",
        "colab": {
          "base_uri": "https://localhost:8080/",
          "height": 32
        },
        "outputId": "a2ad89f8-1f89-4940-a4c8-1081ad6bb15c"
      },
      "source": [
        "# remove instances based on Duration in the testing set\n",
        "train_df[(train_df.distance == 0)].distance.count()"
      ],
      "execution_count": 0,
      "outputs": [
        {
          "output_type": "execute_result",
          "data": {
            "text/plain": [
              "5594"
            ]
          },
          "metadata": {
            "tags": []
          },
          "execution_count": 46
        }
      ]
    },
    {
      "cell_type": "code",
      "metadata": {
        "id": "YcLiXrTo13Cu",
        "colab_type": "code",
        "colab": {}
      },
      "source": [
        "# remove these 845\n",
        "train_df = train_df[train_df.trip_duration >= 5]\n",
        "train_df = train_df[train_df.trip_duration <= 1000000]"
      ],
      "execution_count": 0,
      "outputs": []
    },
    {
      "cell_type": "code",
      "metadata": {
        "id": "fXN6qKLFIMAR",
        "colab_type": "code",
        "colab": {
          "base_uri": "https://localhost:8080/",
          "height": 164
        },
        "outputId": "4cf43d1f-7a54-4d58-c19f-8075ddf338b6"
      },
      "source": [
        "train_df.distance.describe()"
      ],
      "execution_count": 0,
      "outputs": [
        {
          "output_type": "execute_result",
          "data": {
            "text/plain": [
              "count   1457742.00\n",
              "mean          3.44\n",
              "std           4.30\n",
              "min           0.00\n",
              "25%           1.23\n",
              "50%           2.10\n",
              "75%           3.88\n",
              "max        1240.91\n",
              "Name: distance, dtype: float64"
            ]
          },
          "metadata": {
            "tags": []
          },
          "execution_count": 48
        }
      ]
    },
    {
      "cell_type": "code",
      "metadata": {
        "id": "TGvOYwtrXNFh",
        "colab_type": "code",
        "colab": {
          "base_uri": "https://localhost:8080/",
          "height": 303
        },
        "outputId": "d29401a8-04f5-41ec-b51d-b475ed0e7581"
      },
      "source": [
        "train_df.nlargest(5,['distance'])"
      ],
      "execution_count": 0,
      "outputs": [
        {
          "output_type": "execute_result",
          "data": {
            "text/html": [
              "<div>\n",
              "<style scoped>\n",
              "    .dataframe tbody tr th:only-of-type {\n",
              "        vertical-align: middle;\n",
              "    }\n",
              "\n",
              "    .dataframe tbody tr th {\n",
              "        vertical-align: top;\n",
              "    }\n",
              "\n",
              "    .dataframe thead th {\n",
              "        text-align: right;\n",
              "    }\n",
              "</style>\n",
              "<table border=\"1\" class=\"dataframe\">\n",
              "  <thead>\n",
              "    <tr style=\"text-align: right;\">\n",
              "      <th></th>\n",
              "      <th>id</th>\n",
              "      <th>vendor_id</th>\n",
              "      <th>pickup_datetime</th>\n",
              "      <th>dropoff_datetime</th>\n",
              "      <th>passenger_count</th>\n",
              "      <th>pickup_longitude</th>\n",
              "      <th>pickup_latitude</th>\n",
              "      <th>dropoff_longitude</th>\n",
              "      <th>dropoff_latitude</th>\n",
              "      <th>store_and_fwd_flag</th>\n",
              "      <th>trip_duration</th>\n",
              "      <th>distance</th>\n",
              "    </tr>\n",
              "  </thead>\n",
              "  <tbody>\n",
              "    <tr>\n",
              "      <th>184925</th>\n",
              "      <td>id2306955</td>\n",
              "      <td>1</td>\n",
              "      <td>2016-05-07 18:58:53</td>\n",
              "      <td>2016-05-07 19:12:05</td>\n",
              "      <td>1</td>\n",
              "      <td>-72.81</td>\n",
              "      <td>51.88</td>\n",
              "      <td>-73.99</td>\n",
              "      <td>40.75</td>\n",
              "      <td>N</td>\n",
              "      <td>792</td>\n",
              "      <td>1240.91</td>\n",
              "    </tr>\n",
              "    <tr>\n",
              "      <th>974378</th>\n",
              "      <td>id1510552</td>\n",
              "      <td>2</td>\n",
              "      <td>2016-01-06 20:40:52</td>\n",
              "      <td>2016-01-06 20:51:03</td>\n",
              "      <td>5</td>\n",
              "      <td>-71.80</td>\n",
              "      <td>35.08</td>\n",
              "      <td>-79.35</td>\n",
              "      <td>40.44</td>\n",
              "      <td>N</td>\n",
              "      <td>611</td>\n",
              "      <td>891.22</td>\n",
              "    </tr>\n",
              "    <tr>\n",
              "      <th>910072</th>\n",
              "      <td>id1146400</td>\n",
              "      <td>1</td>\n",
              "      <td>2016-02-15 18:57:32</td>\n",
              "      <td>2016-02-15 19:02:35</td>\n",
              "      <td>2</td>\n",
              "      <td>-73.99</td>\n",
              "      <td>40.76</td>\n",
              "      <td>-70.35</td>\n",
              "      <td>36.40</td>\n",
              "      <td>N</td>\n",
              "      <td>303</td>\n",
              "      <td>578.84</td>\n",
              "    </tr>\n",
              "    <tr>\n",
              "      <th>1100676</th>\n",
              "      <td>id2644780</td>\n",
              "      <td>1</td>\n",
              "      <td>2016-05-03 16:24:07</td>\n",
              "      <td>2016-05-03 17:18:34</td>\n",
              "      <td>2</td>\n",
              "      <td>-73.99</td>\n",
              "      <td>40.75</td>\n",
              "      <td>-79.52</td>\n",
              "      <td>43.92</td>\n",
              "      <td>N</td>\n",
              "      <td>3267</td>\n",
              "      <td>574.88</td>\n",
              "    </tr>\n",
              "    <tr>\n",
              "      <th>923793</th>\n",
              "      <td>id1001696</td>\n",
              "      <td>1</td>\n",
              "      <td>2016-02-24 21:02:32</td>\n",
              "      <td>2016-02-24 21:25:57</td>\n",
              "      <td>1</td>\n",
              "      <td>-73.97</td>\n",
              "      <td>40.76</td>\n",
              "      <td>-79.55</td>\n",
              "      <td>43.67</td>\n",
              "      <td>N</td>\n",
              "      <td>1405</td>\n",
              "      <td>562.24</td>\n",
              "    </tr>\n",
              "  </tbody>\n",
              "</table>\n",
              "</div>"
            ],
            "text/plain": [
              "                id  vendor_id  ... trip_duration distance\n",
              "184925   id2306955          1  ...           792  1240.91\n",
              "974378   id1510552          2  ...           611   891.22\n",
              "910072   id1146400          1  ...           303   578.84\n",
              "1100676  id2644780          1  ...          3267   574.88\n",
              "923793   id1001696          1  ...          1405   562.24\n",
              "\n",
              "[5 rows x 12 columns]"
            ]
          },
          "metadata": {
            "tags": []
          },
          "execution_count": 49
        }
      ]
    },
    {
      "cell_type": "markdown",
      "metadata": {
        "id": "NY4QrV3jYunv",
        "colab_type": "text"
      },
      "source": [
        "There are trips with 0 distance, and as shown in the chart above, there are some points look like outliers"
      ]
    },
    {
      "cell_type": "code",
      "metadata": {
        "id": "IV31jk87GKeE",
        "colab_type": "code",
        "colab": {}
      },
      "source": [
        "# remove instance with distance = 0\n",
        "train_df = train_df[train_df.distance != 0]"
      ],
      "execution_count": 0,
      "outputs": []
    },
    {
      "cell_type": "code",
      "metadata": {
        "id": "YgK8tuoCIqFZ",
        "colab_type": "code",
        "colab": {
          "base_uri": "https://localhost:8080/",
          "height": 267
        },
        "outputId": "27017220-601d-4781-adbe-e9a5ce58b764"
      },
      "source": [
        "train_df.distance.groupby(pd.cut(train_df.distance, np.arange(0,100,10))).count().plot(kind='barh')\n",
        "plt.show()"
      ],
      "execution_count": 0,
      "outputs": [
        {
          "output_type": "display_data",
          "data": {
            "image/png": "[encoded data removed]",
            "text/plain": [
              "<Figure size 432x288 with 1 Axes>"
            ]
          },
          "metadata": {
            "tags": []
          }
        }
      ]
    },
    {
      "cell_type": "markdown",
      "metadata": {
        "id": "DOvraW1eI_9-",
        "colab_type": "text"
      },
      "source": [
        "As shown above, most of the rides are completed between 1-10 kms with some of the rides with distances between 10-30 kms"
      ]
    },
    {
      "cell_type": "markdown",
      "metadata": {
        "id": "WNGIYA6S3n0W",
        "colab_type": "text"
      },
      "source": [
        "**Speed**"
      ]
    },
    {
      "cell_type": "code",
      "metadata": {
        "id": "N3YmYm3s3qyM",
        "colab_type": "code",
        "colab": {}
      },
      "source": [
        "train_df['speed'] = (train_df.distance/(train_df.trip_duration/3600))"
      ],
      "execution_count": 0,
      "outputs": []
    },
    {
      "cell_type": "code",
      "metadata": {
        "id": "62SpVP_6C3N6",
        "colab_type": "code",
        "colab": {
          "base_uri": "https://localhost:8080/",
          "height": 164
        },
        "outputId": "70cd99a5-8252-4a77-b0fd-4caaf34e9c2c"
      },
      "source": [
        "train_df.speed.describe()"
      ],
      "execution_count": 0,
      "outputs": [
        {
          "output_type": "execute_result",
          "data": {
            "text/plain": [
              "count   1452148.00\n",
              "mean         14.47\n",
              "std          14.76\n",
              "min           0.00\n",
              "25%           9.17\n",
              "50%          12.82\n",
              "75%          17.87\n",
              "max        9274.85\n",
              "Name: speed, dtype: float64"
            ]
          },
          "metadata": {
            "tags": []
          },
          "execution_count": 53
        }
      ]
    },
    {
      "cell_type": "markdown",
      "metadata": {
        "id": "x8cqPcOBDN65",
        "colab_type": "text"
      },
      "source": [
        "Some trips have speed more than 2,000 meter/hour, which is unrealistic. We will need to remove these instances."
      ]
    },
    {
      "cell_type": "code",
      "metadata": {
        "id": "xmfC9JcbFIwR",
        "colab_type": "code",
        "colab": {}
      },
      "source": [
        "train_df = train_df[train_df.speed <= 110]"
      ],
      "execution_count": 0,
      "outputs": []
    },
    {
      "cell_type": "code",
      "metadata": {
        "id": "H2wAz1UHEaJh",
        "colab_type": "code",
        "colab": {
          "base_uri": "https://localhost:8080/",
          "height": 357
        },
        "outputId": "4c6a85f3-cd3c-4e60-839e-84764a166a31"
      },
      "source": [
        "plt.figure(figsize = (20,5))\n",
        "sns.boxplot(train_df.speed)\n",
        "plt.show()"
      ],
      "execution_count": 0,
      "outputs": [
        {
          "output_type": "display_data",
          "data": {
            "image/png": "[encoded data removed]",
            "text/plain": [
              "<Figure size 1440x360 with 1 Axes>"
            ]
          },
          "metadata": {
            "tags": []
          }
        }
      ]
    },
    {
      "cell_type": "code",
      "metadata": {
        "id": "hbVmhFFh2TP6",
        "colab_type": "code",
        "colab": {
          "base_uri": "https://localhost:8080/",
          "height": 283
        },
        "outputId": "fb281ea5-4d90-47a2-a4a8-74d2490fcb97"
      },
      "source": [
        "train_df.speed.groupby(pd.cut(train_df.speed, np.arange(0,104,10))).count().plot(kind = 'barh')\n",
        "plt.xlabel('Trip count')\n",
        "plt.ylabel('Speed (Km/H)')\n",
        "plt.show()"
      ],
      "execution_count": 0,
      "outputs": [
        {
          "output_type": "display_data",
          "data": {
            "image/png": "[encoded data removed]",
            "text/plain": [
              "<Figure size 432x288 with 1 Axes>"
            ]
          },
          "metadata": {
            "tags": []
          }
        }
      ]
    },
    {
      "cell_type": "markdown",
      "metadata": {
        "id": "Z5DeTosJ2gnO",
        "colab_type": "text"
      },
      "source": [
        "**Observation**\n",
        "\n",
        "It's inline with the general trend of taxi pickups which starts increasing from 6AM in the morning and then declines from late evening i.e. around 8 PM. There is no unusual behavior here."
      ]
    },
    {
      "cell_type": "markdown",
      "metadata": {
        "id": "IVrZs_-J2tvC",
        "colab_type": "text"
      },
      "source": [
        "**Total Trips per Weekday**\n",
        "\n",
        "Let's take a look now at the distribution of taxi pickups across the week."
      ]
    },
    {
      "cell_type": "code",
      "metadata": {
        "id": "wEHJggzW35pp",
        "colab_type": "code",
        "colab": {
          "base_uri": "https://localhost:8080/",
          "height": 392
        },
        "outputId": "263c6388-bddf-4125-8b43-045e1d661f4e"
      },
      "source": [
        "plt.figure(figsize = (8,6))\n",
        "sns.countplot(train_df.weekday_number)\n",
        "plt.xlabel(' Month ')\n",
        "plt.ylabel('Pickup counts')\n",
        "plt.show()\n"
      ],
      "execution_count": 72,
      "outputs": [
        {
          "output_type": "display_data",
          "data": {
            "image/png": "[encoded data removed]",
            "text/plain": [
              "<Figure size 576x432 with 1 Axes>"
            ]
          },
          "metadata": {
            "tags": []
          }
        }
      ]
    },
    {
      "cell_type": "markdown",
      "metadata": {
        "id": "O-2X6Fhl4hqD",
        "colab_type": "text"
      },
      "source": [
        "**Observation**\n",
        "\n",
        "Here we can see an increasing trend of taxi pickups starting from Monday till Friday. The trend starts declining from saturday till monday which is normal where some office going people likes to stay at home for rest on the weekends.\n",
        "\n",
        "Let's drill down more to see the hourwise pickup pattern across the week"
      ]
    },
    {
      "cell_type": "markdown",
      "metadata": {
        "id": "fwdW42di4_31",
        "colab_type": "text"
      },
      "source": [
        "**Quite a balance across the months**\n",
        "\n",
        "\n",
        "here. It could have been more equivalent if we wouldn't have removed the inconsistent records in our study of the univariate analysis"
      ]
    },
    {
      "cell_type": "markdown",
      "metadata": {
        "id": "5yqW8ExAKSA9",
        "colab_type": "text"
      },
      "source": [
        "## Time and Date"
      ]
    },
    {
      "cell_type": "code",
      "metadata": {
        "id": "FV-r6ZDyeDKw",
        "colab_type": "code",
        "colab": {}
      },
      "source": [
        "#Calculate and assign new columns to the dataframe such as weekday,\n",
        "#month and pickup_hour which will help us to gain more insights from the data.\n",
        "def convert_datetime(df):\n",
        "    df['pickup_datetime'] = pd.to_datetime(df['pickup_datetime'])\n",
        "    df['weekday'] = df.pickup_datetime.dt.weekday_name\n",
        "    df['month'] = df.pickup_datetime.dt.month\n",
        "    df['weekday_number'] = df.pickup_datetime.dt.weekday\n",
        "    df['pickup_hour'] = df.pickup_datetime.dt.hour"
      ],
      "execution_count": 0,
      "outputs": []
    },
    {
      "cell_type": "code",
      "metadata": {
        "id": "6oW6GxeQeEP6",
        "colab_type": "code",
        "colab": {
          "base_uri": "https://localhost:8080/",
          "height": 303
        },
        "outputId": "b59790b9-80b5-47a6-b3d6-2100604cb983"
      },
      "source": [
        "convert_datetime(train_df)\n",
        "train_df.head()"
      ],
      "execution_count": 61,
      "outputs": [
        {
          "output_type": "execute_result",
          "data": {
            "text/html": [
              "<div>\n",
              "<style scoped>\n",
              "    .dataframe tbody tr th:only-of-type {\n",
              "        vertical-align: middle;\n",
              "    }\n",
              "\n",
              "    .dataframe tbody tr th {\n",
              "        vertical-align: top;\n",
              "    }\n",
              "\n",
              "    .dataframe thead th {\n",
              "        text-align: right;\n",
              "    }\n",
              "</style>\n",
              "<table border=\"1\" class=\"dataframe\">\n",
              "  <thead>\n",
              "    <tr style=\"text-align: right;\">\n",
              "      <th></th>\n",
              "      <th>id</th>\n",
              "      <th>vendor_id</th>\n",
              "      <th>pickup_datetime</th>\n",
              "      <th>dropoff_datetime</th>\n",
              "      <th>passenger_count</th>\n",
              "      <th>pickup_longitude</th>\n",
              "      <th>pickup_latitude</th>\n",
              "      <th>dropoff_longitude</th>\n",
              "      <th>dropoff_latitude</th>\n",
              "      <th>store_and_fwd_flag</th>\n",
              "      <th>trip_duration</th>\n",
              "      <th>distance</th>\n",
              "      <th>speed</th>\n",
              "      <th>weekday</th>\n",
              "      <th>month</th>\n",
              "      <th>weekday_number</th>\n",
              "      <th>pickup_hour</th>\n",
              "    </tr>\n",
              "  </thead>\n",
              "  <tbody>\n",
              "    <tr>\n",
              "      <th>0</th>\n",
              "      <td>id2875421</td>\n",
              "      <td>2</td>\n",
              "      <td>2016-03-14 17:24:55</td>\n",
              "      <td>2016-03-14 17:32:30</td>\n",
              "      <td>1</td>\n",
              "      <td>-73.98</td>\n",
              "      <td>40.77</td>\n",
              "      <td>-73.96</td>\n",
              "      <td>40.77</td>\n",
              "      <td>N</td>\n",
              "      <td>455</td>\n",
              "      <td>1.50</td>\n",
              "      <td>11.86</td>\n",
              "      <td>Monday</td>\n",
              "      <td>3</td>\n",
              "      <td>0</td>\n",
              "      <td>17</td>\n",
              "    </tr>\n",
              "    <tr>\n",
              "      <th>1</th>\n",
              "      <td>id2377394</td>\n",
              "      <td>1</td>\n",
              "      <td>2016-06-12 00:43:35</td>\n",
              "      <td>2016-06-12 00:54:38</td>\n",
              "      <td>1</td>\n",
              "      <td>-73.98</td>\n",
              "      <td>40.74</td>\n",
              "      <td>-74.00</td>\n",
              "      <td>40.73</td>\n",
              "      <td>N</td>\n",
              "      <td>663</td>\n",
              "      <td>1.81</td>\n",
              "      <td>9.80</td>\n",
              "      <td>Sunday</td>\n",
              "      <td>6</td>\n",
              "      <td>6</td>\n",
              "      <td>0</td>\n",
              "    </tr>\n",
              "    <tr>\n",
              "      <th>2</th>\n",
              "      <td>id3858529</td>\n",
              "      <td>2</td>\n",
              "      <td>2016-01-19 11:35:24</td>\n",
              "      <td>2016-01-19 12:10:48</td>\n",
              "      <td>1</td>\n",
              "      <td>-73.98</td>\n",
              "      <td>40.76</td>\n",
              "      <td>-74.01</td>\n",
              "      <td>40.71</td>\n",
              "      <td>N</td>\n",
              "      <td>2124</td>\n",
              "      <td>6.39</td>\n",
              "      <td>10.82</td>\n",
              "      <td>Tuesday</td>\n",
              "      <td>1</td>\n",
              "      <td>1</td>\n",
              "      <td>11</td>\n",
              "    </tr>\n",
              "    <tr>\n",
              "      <th>3</th>\n",
              "      <td>id3504673</td>\n",
              "      <td>2</td>\n",
              "      <td>2016-04-06 19:32:31</td>\n",
              "      <td>2016-04-06 19:39:40</td>\n",
              "      <td>1</td>\n",
              "      <td>-74.01</td>\n",
              "      <td>40.72</td>\n",
              "      <td>-74.01</td>\n",
              "      <td>40.71</td>\n",
              "      <td>N</td>\n",
              "      <td>429</td>\n",
              "      <td>1.49</td>\n",
              "      <td>12.47</td>\n",
              "      <td>Wednesday</td>\n",
              "      <td>4</td>\n",
              "      <td>2</td>\n",
              "      <td>19</td>\n",
              "    </tr>\n",
              "    <tr>\n",
              "      <th>4</th>\n",
              "      <td>id2181028</td>\n",
              "      <td>2</td>\n",
              "      <td>2016-03-26 13:30:55</td>\n",
              "      <td>2016-03-26 13:38:10</td>\n",
              "      <td>1</td>\n",
              "      <td>-73.97</td>\n",
              "      <td>40.79</td>\n",
              "      <td>-73.97</td>\n",
              "      <td>40.78</td>\n",
              "      <td>N</td>\n",
              "      <td>435</td>\n",
              "      <td>1.19</td>\n",
              "      <td>9.84</td>\n",
              "      <td>Saturday</td>\n",
              "      <td>3</td>\n",
              "      <td>5</td>\n",
              "      <td>13</td>\n",
              "    </tr>\n",
              "  </tbody>\n",
              "</table>\n",
              "</div>"
            ],
            "text/plain": [
              "          id  vendor_id     pickup_datetime  ... month  weekday_number  pickup_hour\n",
              "0  id2875421          2 2016-03-14 17:24:55  ...     3               0           17\n",
              "1  id2377394          1 2016-06-12 00:43:35  ...     6               6            0\n",
              "2  id3858529          2 2016-01-19 11:35:24  ...     1               1           11\n",
              "3  id3504673          2 2016-04-06 19:32:31  ...     4               2           19\n",
              "4  id2181028          2 2016-03-26 13:30:55  ...     3               5           13\n",
              "\n",
              "[5 rows x 17 columns]"
            ]
          },
          "metadata": {
            "tags": []
          },
          "execution_count": 61
        }
      ]
    },
    {
      "cell_type": "code",
      "metadata": {
        "id": "Ce3McQxR4jaq",
        "colab_type": "code",
        "colab": {
          "base_uri": "https://localhost:8080/",
          "height": 240
        },
        "outputId": "c327f416-4886-45bb-f27f-7c58fb38500a"
      },
      "source": [
        "n = sns.FacetGrid(train_df, col='weekday_number')\n",
        "n.map(plt.hist, 'pickup_hour')\n",
        "plt.show()"
      ],
      "execution_count": 62,
      "outputs": [
        {
          "output_type": "display_data",
          "data": {
            "image/png": "[encoded data removed]",
            "text/plain": [
              "<Figure size 1512x216 with 7 Axes>"
            ]
          },
          "metadata": {
            "tags": []
          }
        }
      ]
    },
    {
      "cell_type": "markdown",
      "metadata": {
        "id": "Msm8yqGD4sQh",
        "colab_type": "text"
      },
      "source": [
        "**Interesting find:**\n",
        "\n",
        "Taxi pickups increased in the late night hours over the weekend possibly due to more outstation rides or for the late night leisures nearby activities.\n",
        "Early morning pickups i.e before 5 AM have increased over the weekend in comparison to the office hours pickups i.e. after 7 AM which have decreased due to obvious reasons.\n",
        "Taxi pickups seems to be consistent across the week at 15 Hours i.e. at 3 PM."
      ]
    },
    {
      "cell_type": "markdown",
      "metadata": {
        "id": "EYoAbA9v40fw",
        "colab_type": "text"
      },
      "source": [
        "**Total trips per month**\n",
        "\n",
        "Let's take a look at the trip distribution across the months to understand if there is any diffrence in the taxi pickups in different months"
      ]
    },
    {
      "cell_type": "code",
      "metadata": {
        "id": "-99d4LHn48nu",
        "colab_type": "code",
        "colab": {
          "base_uri": "https://localhost:8080/",
          "height": 283
        },
        "outputId": "be4b6e15-26cb-4c7c-88ee-66699b463cb0"
      },
      "source": [
        "sns.countplot(train_df.month)\n",
        "plt.ylabel('Trip Counts')\n",
        "plt.xlabel('month')\n",
        "plt.show()"
      ],
      "execution_count": 63,
      "outputs": [
        {
          "output_type": "display_data",
          "data": {
            "image/png": "[encoded data removed]",
            "text/plain": [
              "<Figure size 432x288 with 1 Axes>"
            ]
          },
          "metadata": {
            "tags": []
          }
        }
      ]
    },
    {
      "cell_type": "code",
      "metadata": {
        "id": "RDNgzAw11D5F",
        "colab_type": "code",
        "colab": {
          "base_uri": "https://localhost:8080/",
          "height": 303
        },
        "outputId": "642f8e99-0c67-44f5-a704-47842c211784"
      },
      "source": [
        "convert_datetime(train_df)\n",
        "train_df.head()"
      ],
      "execution_count": 64,
      "outputs": [
        {
          "output_type": "execute_result",
          "data": {
            "text/html": [
              "<div>\n",
              "<style scoped>\n",
              "    .dataframe tbody tr th:only-of-type {\n",
              "        vertical-align: middle;\n",
              "    }\n",
              "\n",
              "    .dataframe tbody tr th {\n",
              "        vertical-align: top;\n",
              "    }\n",
              "\n",
              "    .dataframe thead th {\n",
              "        text-align: right;\n",
              "    }\n",
              "</style>\n",
              "<table border=\"1\" class=\"dataframe\">\n",
              "  <thead>\n",
              "    <tr style=\"text-align: right;\">\n",
              "      <th></th>\n",
              "      <th>id</th>\n",
              "      <th>vendor_id</th>\n",
              "      <th>pickup_datetime</th>\n",
              "      <th>dropoff_datetime</th>\n",
              "      <th>passenger_count</th>\n",
              "      <th>pickup_longitude</th>\n",
              "      <th>pickup_latitude</th>\n",
              "      <th>dropoff_longitude</th>\n",
              "      <th>dropoff_latitude</th>\n",
              "      <th>store_and_fwd_flag</th>\n",
              "      <th>trip_duration</th>\n",
              "      <th>distance</th>\n",
              "      <th>speed</th>\n",
              "      <th>weekday</th>\n",
              "      <th>month</th>\n",
              "      <th>weekday_number</th>\n",
              "      <th>pickup_hour</th>\n",
              "    </tr>\n",
              "  </thead>\n",
              "  <tbody>\n",
              "    <tr>\n",
              "      <th>0</th>\n",
              "      <td>id2875421</td>\n",
              "      <td>2</td>\n",
              "      <td>2016-03-14 17:24:55</td>\n",
              "      <td>2016-03-14 17:32:30</td>\n",
              "      <td>1</td>\n",
              "      <td>-73.98</td>\n",
              "      <td>40.77</td>\n",
              "      <td>-73.96</td>\n",
              "      <td>40.77</td>\n",
              "      <td>N</td>\n",
              "      <td>455</td>\n",
              "      <td>1.50</td>\n",
              "      <td>11.86</td>\n",
              "      <td>Monday</td>\n",
              "      <td>3</td>\n",
              "      <td>0</td>\n",
              "      <td>17</td>\n",
              "    </tr>\n",
              "    <tr>\n",
              "      <th>1</th>\n",
              "      <td>id2377394</td>\n",
              "      <td>1</td>\n",
              "      <td>2016-06-12 00:43:35</td>\n",
              "      <td>2016-06-12 00:54:38</td>\n",
              "      <td>1</td>\n",
              "      <td>-73.98</td>\n",
              "      <td>40.74</td>\n",
              "      <td>-74.00</td>\n",
              "      <td>40.73</td>\n",
              "      <td>N</td>\n",
              "      <td>663</td>\n",
              "      <td>1.81</td>\n",
              "      <td>9.80</td>\n",
              "      <td>Sunday</td>\n",
              "      <td>6</td>\n",
              "      <td>6</td>\n",
              "      <td>0</td>\n",
              "    </tr>\n",
              "    <tr>\n",
              "      <th>2</th>\n",
              "      <td>id3858529</td>\n",
              "      <td>2</td>\n",
              "      <td>2016-01-19 11:35:24</td>\n",
              "      <td>2016-01-19 12:10:48</td>\n",
              "      <td>1</td>\n",
              "      <td>-73.98</td>\n",
              "      <td>40.76</td>\n",
              "      <td>-74.01</td>\n",
              "      <td>40.71</td>\n",
              "      <td>N</td>\n",
              "      <td>2124</td>\n",
              "      <td>6.39</td>\n",
              "      <td>10.82</td>\n",
              "      <td>Tuesday</td>\n",
              "      <td>1</td>\n",
              "      <td>1</td>\n",
              "      <td>11</td>\n",
              "    </tr>\n",
              "    <tr>\n",
              "      <th>3</th>\n",
              "      <td>id3504673</td>\n",
              "      <td>2</td>\n",
              "      <td>2016-04-06 19:32:31</td>\n",
              "      <td>2016-04-06 19:39:40</td>\n",
              "      <td>1</td>\n",
              "      <td>-74.01</td>\n",
              "      <td>40.72</td>\n",
              "      <td>-74.01</td>\n",
              "      <td>40.71</td>\n",
              "      <td>N</td>\n",
              "      <td>429</td>\n",
              "      <td>1.49</td>\n",
              "      <td>12.47</td>\n",
              "      <td>Wednesday</td>\n",
              "      <td>4</td>\n",
              "      <td>2</td>\n",
              "      <td>19</td>\n",
              "    </tr>\n",
              "    <tr>\n",
              "      <th>4</th>\n",
              "      <td>id2181028</td>\n",
              "      <td>2</td>\n",
              "      <td>2016-03-26 13:30:55</td>\n",
              "      <td>2016-03-26 13:38:10</td>\n",
              "      <td>1</td>\n",
              "      <td>-73.97</td>\n",
              "      <td>40.79</td>\n",
              "      <td>-73.97</td>\n",
              "      <td>40.78</td>\n",
              "      <td>N</td>\n",
              "      <td>435</td>\n",
              "      <td>1.19</td>\n",
              "      <td>9.84</td>\n",
              "      <td>Saturday</td>\n",
              "      <td>3</td>\n",
              "      <td>5</td>\n",
              "      <td>13</td>\n",
              "    </tr>\n",
              "  </tbody>\n",
              "</table>\n",
              "</div>"
            ],
            "text/plain": [
              "          id  vendor_id     pickup_datetime  ... month  weekday_number  pickup_hour\n",
              "0  id2875421          2 2016-03-14 17:24:55  ...     3               0           17\n",
              "1  id2377394          1 2016-06-12 00:43:35  ...     6               6            0\n",
              "2  id3858529          2 2016-01-19 11:35:24  ...     1               1           11\n",
              "3  id3504673          2 2016-04-06 19:32:31  ...     4               2           19\n",
              "4  id2181028          2 2016-03-26 13:30:55  ...     3               5           13\n",
              "\n",
              "[5 rows x 17 columns]"
            ]
          },
          "metadata": {
            "tags": []
          },
          "execution_count": 64
        }
      ]
    },
    {
      "cell_type": "markdown",
      "metadata": {
        "id": "qOjrBVCA8KKT",
        "colab_type": "text"
      },
      "source": [
        "We need to aggregate the total trip duration to plot it agaist the month. The aggregation measure can be anything like sum, mean, median or mode for the duration. Since we already did the outlier analysis, so we can take the mean to visualize the pattern which should not result in the bias of the general trend."
      ]
    },
    {
      "cell_type": "code",
      "metadata": {
        "id": "Af1-eHBS8FeU",
        "colab_type": "code",
        "colab": {
          "base_uri": "https://localhost:8080/",
          "height": 283
        },
        "outputId": "91f8636f-4ae3-4b44-e48d-4367f0976179"
      },
      "source": [
        "group1 = train_df.groupby('pickup_hour').trip_duration.mean()\n",
        "sns.pointplot(group1.index, group1.values)\n",
        "plt.ylabel('Trip Duration (seconds)')\n",
        "plt.xlabel('Pickup Hour')\n",
        "plt.show()"
      ],
      "execution_count": 65,
      "outputs": [
        {
          "output_type": "display_data",
          "data": {
            "image/png": "[encoded data removed]",
            "text/plain": [
              "<Figure size 432x288 with 1 Axes>"
            ]
          },
          "metadata": {
            "tags": []
          }
        }
      ]
    },
    {
      "cell_type": "markdown",
      "metadata": {
        "id": "AhfflxPF8Qfh",
        "colab_type": "text"
      },
      "source": [
        "Average trip duration is lowest at 6 AM when there is minimal traffic on the roads. Average trip duration is generally highest around 3 PM during the busy streets. Trip duration on an average is similar during early morning hours i.e. before 6 AM & late evening hours i.e. after 6 PM"
      ]
    },
    {
      "cell_type": "markdown",
      "metadata": {
        "id": "nbO-NbAo8VsT",
        "colab_type": "text"
      },
      "source": [
        "**Trip duration per weekday**\n",
        "\n",
        "Let's now analyze the pattern of trip duration during the week."
      ]
    },
    {
      "cell_type": "code",
      "metadata": {
        "id": "jIKJSp0O8Ya3",
        "colab_type": "code",
        "colab": {
          "base_uri": "https://localhost:8080/",
          "height": 283
        },
        "outputId": "a0e9fcdb-c75f-4ae1-cbb2-b84a709c9d2e"
      },
      "source": [
        "group2 = train_df.groupby('weekday_number').trip_duration.mean()\n",
        "sns.pointplot(group2.index, group2.values)\n",
        "plt.ylabel('Trip Duration (seconds)')\n",
        "plt.xlabel('Weekday')\n",
        "plt.show()"
      ],
      "execution_count": 66,
      "outputs": [
        {
          "output_type": "display_data",
          "data": {
            "image/png": "[encoded data removed]",
            "text/plain": [
              "<Figure size 432x288 with 1 Axes>"
            ]
          },
          "metadata": {
            "tags": []
          }
        }
      ]
    },
    {
      "cell_type": "markdown",
      "metadata": {
        "id": "USWZ4hud8bDC",
        "colab_type": "text"
      },
      "source": [
        "We can see that trip duration is almost equally distributed across the week on a scale of 0-1000 minutes with minimal difference in the duration times. Also, it is observed that trip duration on thursday is longest among all days"
      ]
    },
    {
      "cell_type": "markdown",
      "metadata": {
        "id": "29jOc3X88jFc",
        "colab_type": "text"
      },
      "source": [
        "**Trip duratin per month**\n",
        "\n",
        "Let's take a look at the trip duration pattern with respect to the different months."
      ]
    },
    {
      "cell_type": "code",
      "metadata": {
        "id": "kkKCtpaS8n7U",
        "colab_type": "code",
        "colab": {
          "base_uri": "https://localhost:8080/",
          "height": 283
        },
        "outputId": "2249b77d-4f40-4575-b131-cf4b5b8030c1"
      },
      "source": [
        "group3 = train_df.groupby('month').trip_duration.mean()\n",
        "sns.pointplot(group3.index, group3.values)\n",
        "plt.ylabel('Trip Duration (seconds)')\n",
        "plt.xlabel('Month')\n",
        "plt.show()"
      ],
      "execution_count": 67,
      "outputs": [
        {
          "output_type": "display_data",
          "data": {
            "image/png": "[encoded data removed]",
            "text/plain": [
              "<Figure size 432x288 with 1 Axes>"
            ]
          },
          "metadata": {
            "tags": []
          }
        }
      ]
    },
    {
      "cell_type": "markdown",
      "metadata": {
        "id": "mDa23wBJ8qKD",
        "colab_type": "text"
      },
      "source": [
        "**Observations:**\n",
        "\n",
        "We can see an increasing trend in the average trip duration along with each subsequent month. The duration difference between each month is not much. It has increased gradually over a period of 6 months. It is lowest during february when winters starts declining. There might be some seasonal parameters like wind/rain which can be a factor of this gradual increase in trip duration over a period. Like May is generally the considered as the wettest month in NYC and which is inline with our visualization. As it generally takes longer on the roads due to traffic jams during rainy season. So natually the trip duration would increase towards April May and June"
      ]
    },
    {
      "cell_type": "markdown",
      "metadata": {
        "id": "QGmcZvqy8u6I",
        "colab_type": "text"
      },
      "source": [
        "**Trip Duration Per Vendor**\n",
        "\n",
        "We can also look at the average difference between the trip duration for each vendor. However we do know that vendor 2 has larger share of the market. Let's visualize."
      ]
    },
    {
      "cell_type": "code",
      "metadata": {
        "id": "xhjHYNNH8xSG",
        "colab_type": "code",
        "colab": {
          "base_uri": "https://localhost:8080/",
          "height": 283
        },
        "outputId": "b441c4c7-a4f0-4f8b-eb56-e3aa6086f3cf"
      },
      "source": [
        "group4 = train_df.groupby('vendor_id').trip_duration.mean()\n",
        "sns.barplot(group4.index, group4.values)\n",
        "plt.ylabel('Trip Duration (seconds)')\n",
        "plt.xlabel('Vendor')\n",
        "plt.show()"
      ],
      "execution_count": 68,
      "outputs": [
        {
          "output_type": "display_data",
          "data": {
            "image/png": "[encoded data removed]",
            "text/plain": [
              "<Figure size 432x288 with 1 Axes>"
            ]
          },
          "metadata": {
            "tags": []
          }
        }
      ]
    },
    {
      "cell_type": "markdown",
      "metadata": {
        "id": "fQuvGk5P8zwq",
        "colab_type": "text"
      },
      "source": [
        "Vendor 2 takes the crown. Average trip duration for vendor 2 is higher than vendor 1 by approx 200 seconds i.e. atleast 3 minutes per trip."
      ]
    },
    {
      "cell_type": "markdown",
      "metadata": {
        "id": "3JcXmF9E86bx",
        "colab_type": "text"
      },
      "source": [
        "**Distance per Hour**\n",
        "\n",
        "Now, let us check how the distance is distributed against different variables. We know that trip distance must be more or less proportional to the trip duration if we ignore general traffic and other stuff on the road. Let's visualize this for each hour now.\n",
        "\n",
        "Since we have already done the outlier analysis for this variable as well. We can take the mean as aggregate measure for our visualizations."
      ]
    },
    {
      "cell_type": "code",
      "metadata": {
        "id": "f5_4-gIW9Baz",
        "colab_type": "code",
        "colab": {
          "base_uri": "https://localhost:8080/",
          "height": 283
        },
        "outputId": "09b47b82-3aa7-4a05-9064-a4443ced5940"
      },
      "source": [
        "group5 = train_df.groupby('pickup_hour').distance.mean()\n",
        "sns.pointplot(group5.index, group5.values)\n",
        "plt.ylabel('Distance (km)')\n",
        "plt.show()"
      ],
      "execution_count": 69,
      "outputs": [
        {
          "output_type": "display_data",
          "data": {
            "image/png": "[encoded data removed]",
            "text/plain": [
              "<Figure size 432x288 with 1 Axes>"
            ]
          },
          "metadata": {
            "tags": []
          }
        }
      ]
    },
    {
      "cell_type": "markdown",
      "metadata": {
        "id": "8_iipyEB9IfR",
        "colab_type": "text"
      },
      "source": [
        "**Observations:**\n",
        "\n",
        "Trip distance is highest during early morning hours which can account for some things like: Outstation trips taken during the weekends. Longer trips towards the city airport which is located in the outskirts of the city. Trip distance is fairly equal from morning till the evening varying around 3 - 3.5 kms. It starts increasing gradually towards the late night hours starting from evening till 5 AM and decrease steeply towards morning."
      ]
    },
    {
      "cell_type": "markdown",
      "metadata": {
        "id": "AQgGlrwL9Mh9",
        "colab_type": "text"
      },
      "source": [
        "**Distance per weekday**\n",
        "\n",
        "Let's analyze the average trip distance covered on each day of the week."
      ]
    },
    {
      "cell_type": "code",
      "metadata": {
        "id": "TIGFSGP-9PUa",
        "colab_type": "code",
        "colab": {
          "base_uri": "https://localhost:8080/",
          "height": 283
        },
        "outputId": "786515fe-11f3-4ca7-be9f-c50c35f2fac1"
      },
      "source": [
        "group6 = train_df.groupby('weekday_number').distance.mean()\n",
        "sns.pointplot(group6.index, group6.values)\n",
        "plt.ylabel('Distance (km)')\n",
        "plt.show()"
      ],
      "execution_count": 74,
      "outputs": [
        {
          "output_type": "display_data",
          "data": {
            "image/png": "[encoded data removed]",
            "text/plain": [
              "<Figure size 432x288 with 1 Axes>"
            ]
          },
          "metadata": {
            "tags": []
          }
        }
      ]
    },
    {
      "cell_type": "markdown",
      "metadata": {
        "id": "HulFVo0K9V6E",
        "colab_type": "text"
      },
      "source": [
        "So it's a fairly equal distribution with average distance metric verying around 3.5 km/h with Sunday being at the top may be due to outstation trips or night trips towards the airport"
      ]
    },
    {
      "cell_type": "markdown",
      "metadata": {
        "id": "y0p8IbyX9ats",
        "colab_type": "text"
      },
      "source": [
        "**Distance per month**\n",
        "\n",
        "Now we will look at the average trip distance covered per month"
      ]
    },
    {
      "cell_type": "code",
      "metadata": {
        "id": "hse6B7cZ9f_D",
        "colab_type": "code",
        "colab": {
          "base_uri": "https://localhost:8080/",
          "height": 283
        },
        "outputId": "00513ec0-cfd9-4480-8381-5f0539b02943"
      },
      "source": [
        "group7 = train_df.groupby('month').distance.mean()\n",
        "sns.pointplot(group7.index, group7.values)\n",
        "plt.ylabel('Distance (km)')\n",
        "plt.show()"
      ],
      "execution_count": 76,
      "outputs": [
        {
          "output_type": "display_data",
          "data": {
            "image/png": "[encoded data removed]",
            "text/plain": [
              "<Figure size 432x288 with 1 Axes>"
            ]
          },
          "metadata": {
            "tags": []
          }
        }
      ]
    },
    {
      "cell_type": "markdown",
      "metadata": {
        "id": "e7NSsINT9jrO",
        "colab_type": "text"
      },
      "source": [
        "Here also the distibution is almost equivalent, varying mostly around 3.5 km/h with 5th month being the highest in the average distance and 2nd month being the lowest."
      ]
    },
    {
      "cell_type": "code",
      "metadata": {
        "id": "gFJcQZFc9l6a",
        "colab_type": "code",
        "colab": {
          "base_uri": "https://localhost:8080/",
          "height": 283
        },
        "outputId": "336aadb3-0602-48b4-b521-d31183e82d08"
      },
      "source": [
        "group8 = train_df.groupby('vendor_id').distance.mean()\n",
        "sns.barplot(group8.index, group8.values)\n",
        "plt.ylabel(\"Distance km\")\n",
        "plt.show()"
      ],
      "execution_count": 77,
      "outputs": [
        {
          "output_type": "display_data",
          "data": {
            "image/png": "[encoded data removed]",
            "text/plain": [
              "<Figure size 432x288 with 1 Axes>"
            ]
          },
          "metadata": {
            "tags": []
          }
        }
      ]
    },
    {
      "cell_type": "markdown",
      "metadata": {
        "id": "Jm3EdnJ29pCw",
        "colab_type": "text"
      },
      "source": [
        "This is more or less same picture with both the vendors. Nothing more to analyze in this"
      ]
    },
    {
      "cell_type": "markdown",
      "metadata": {
        "id": "PRBnu9lf9qT8",
        "colab_type": "text"
      },
      "source": [
        "**Distance v/s Trip duration**\n",
        "\n",
        "Let's visualize the relationship between Distance covered and respective trip duration."
      ]
    },
    {
      "cell_type": "code",
      "metadata": {
        "id": "M2hImG0W94RE",
        "colab_type": "code",
        "colab": {
          "base_uri": "https://localhost:8080/",
          "height": 287
        },
        "outputId": "e69a70c0-0d2f-4d06-a3b0-674bc0e4974c"
      },
      "source": [
        "plt.scatter(train_df.trip_duration, train_df.distance , s=1, alpha=0.5)\n",
        "plt.ylabel('Distance')\n",
        "plt.xlabel('Trip Duration')\n",
        "plt.show()"
      ],
      "execution_count": 78,
      "outputs": [
        {
          "output_type": "display_data",
          "data": {
            "image/png": "[encoded data removed]",
            "text/plain": [
              "<Figure size 432x288 with 1 Axes>"
            ]
          },
          "metadata": {
            "tags": []
          }
        }
      ]
    },
    {
      "cell_type": "markdown",
      "metadata": {
        "id": "VdhnIfm0-FCq",
        "colab_type": "text"
      },
      "source": [
        "**Interesting find:**\n",
        "\n",
        "There are lots of trips which covered negligible distance but clocked more than 20,000 seconds in terms of the Duration. Initially there is some proper correlation between the distance covered and the trip duration in the graph. but later on it all seems uncorrelated. There were few trips which covered huge distance of approx 200 kms within very less time frame, which is unlikely and should be treated as outliers. Let's focus on the graph area where distance is < 50 km and duration is < 1000 seconds."
      ]
    },
    {
      "cell_type": "code",
      "metadata": {
        "id": "SVL4nNkI-IVO",
        "colab_type": "code",
        "colab": {
          "base_uri": "https://localhost:8080/",
          "height": 283
        },
        "outputId": "7a3adfc4-eaeb-417e-c755-ea2e9b5a5ef8"
      },
      "source": [
        "dur_dist = train_df.loc[(train_df.distance < 50) & (train_df.trip_duration < 1000), ['distance','trip_duration']]\n",
        "plt.scatter(dur_dist.trip_duration, dur_dist.distance , s=1, alpha=0.5)\n",
        "plt.ylabel('Distance')\n",
        "plt.xlabel('Trip Duration')\n",
        "plt.show()"
      ],
      "execution_count": 79,
      "outputs": [
        {
          "output_type": "display_data",
          "data": {
            "image/png": "[encoded data removed]",
            "text/plain": [
              "<Figure size 432x288 with 1 Axes>"
            ]
          },
          "metadata": {
            "tags": []
          }
        }
      ]
    },
    {
      "cell_type": "markdown",
      "metadata": {
        "id": "1sGViXVu-RzS",
        "colab_type": "text"
      },
      "source": [
        "**Observations:**\n",
        "\n",
        "There should have been a linear relationship between the distance covered and trip duration on an average but we can see dense collection of the trips in the lower right corner which showcase many trips with the inconsistent readings.\n",
        "\n",
        "Idea:\n",
        "\n",
        "We should remove those trips which covered 0 km distance but clocked more than 1 minute to make our data more consistent for predictive model. Because if the trip was cancelled after booking, than that should not have taken more than a minute time. This is our assumption."
      ]
    },
    {
      "cell_type": "code",
      "metadata": {
        "id": "0ST8v_vk-Uj5",
        "colab_type": "code",
        "colab": {}
      },
      "source": [
        "data = train_df[~((train_df.distance == 0) & (train_df.trip_duration >= 60))]"
      ],
      "execution_count": 0,
      "outputs": []
    },
    {
      "cell_type": "markdown",
      "metadata": {
        "id": "u5-UHiYw-YTA",
        "colab_type": "text"
      },
      "source": [
        "Now, Instead of looking at each and every trip, we should approximate and try to filter those trips which covered less than 1 km distance and but clocked more than an hour."
      ]
    },
    {
      "cell_type": "code",
      "metadata": {
        "id": "b4rXO6yV-c4d",
        "colab_type": "code",
        "colab": {}
      },
      "source": [
        "duo = data.loc[(train_df['distance'] <= 1) & (train_df['trip_duration'] >= 3600),['distance','trip_duration']].reset_index(drop=True)"
      ],
      "execution_count": 0,
      "outputs": []
    },
    {
      "cell_type": "code",
      "metadata": {
        "id": "urJqO7M4-hep",
        "colab_type": "code",
        "colab": {
          "base_uri": "https://localhost:8080/",
          "height": 283
        },
        "outputId": "2aac508f-d4bd-4a39-e596-609ebd2ebbac"
      },
      "source": [
        "sns.regplot(duo.distance, duo.trip_duration)\n",
        "plt.show()"
      ],
      "execution_count": 82,
      "outputs": [
        {
          "output_type": "display_data",
          "data": {
            "image/png": "[encoded data removed]",
            "text/plain": [
              "<Figure size 432x288 with 1 Axes>"
            ]
          },
          "metadata": {
            "tags": []
          }
        }
      ]
    },
    {
      "cell_type": "markdown",
      "metadata": {
        "id": "hnxIAgTI-l0S",
        "colab_type": "text"
      },
      "source": [
        "**Observations:**\n",
        "\n",
        "Though the straight line tries to show some linear relation between the two. But there seems to be negligible correlation between these two metric as seen from the scatter plot where it should have been a linear distribution. It is rarely occurs that customer keep sitting in the taxi for more than an hour and it does not travel for even 1 km.\n",
        "\n",
        "These should be removed to bring in more consistency to our results"
      ]
    },
    {
      "cell_type": "code",
      "metadata": {
        "id": "VTcADwoT-rZT",
        "colab_type": "code",
        "colab": {}
      },
      "source": [
        "data = train_df[~((train_df['distance'] <= 1) & (train_df['trip_duration'] >= 3600))]"
      ],
      "execution_count": 0,
      "outputs": []
    },
    {
      "cell_type": "markdown",
      "metadata": {
        "id": "zPw4UU6Y-1ed",
        "colab_type": "text"
      },
      "source": [
        "**Average speed per hour**\n",
        "\n",
        "Let's look at the average speed of NYC Taxi per hour."
      ]
    },
    {
      "cell_type": "code",
      "metadata": {
        "id": "u7AiqmWM-3xV",
        "colab_type": "code",
        "colab": {
          "base_uri": "https://localhost:8080/",
          "height": 283
        },
        "outputId": "4037e33c-0eb6-445d-e14a-feeeb39d727d"
      },
      "source": [
        "group9 = train_df.groupby('pickup_hour').speed.mean()\n",
        "sns.pointplot(group9.index, group9.values)\n",
        "plt.show()"
      ],
      "execution_count": 84,
      "outputs": [
        {
          "output_type": "display_data",
          "data": {
            "image/png": "[encoded data removed]",
            "text/plain": [
              "<Figure size 432x288 with 1 Axes>"
            ]
          },
          "metadata": {
            "tags": []
          }
        }
      ]
    },
    {
      "cell_type": "markdown",
      "metadata": {
        "id": "cKRk5Ixi_A81",
        "colab_type": "text"
      },
      "source": [
        "**Observation**\n",
        "\n",
        "The average trend is totally inline with the normal circumstances. Average speed tend to increase after late evening and continues to increase gradually till the late early morning hours. Average taxi speed is highest at 5 AM in the morning, then it declines steeply as the office hours approaches. Average taxi speed is more or less same during the office hours i.e. from 8 AM till 6PM in the evening"
      ]
    },
    {
      "cell_type": "markdown",
      "metadata": {
        "id": "mXFPC4_a_Eik",
        "colab_type": "text"
      },
      "source": [
        "**Average speed per weekday**\n",
        "\n",
        "Let's visualize that on an average what is the speed of a taxi on any given weekday."
      ]
    },
    {
      "cell_type": "code",
      "metadata": {
        "id": "DCH-Co6O_G6P",
        "colab_type": "code",
        "colab": {
          "base_uri": "https://localhost:8080/",
          "height": 283
        },
        "outputId": "fa19e6a2-ceea-4fa2-af7f-5d82995c0fbe"
      },
      "source": [
        "group10 = train_df.groupby('weekday_number').speed.mean()\n",
        "sns.pointplot(group10.index, group10.values)\n",
        "plt.show()"
      ],
      "execution_count": 86,
      "outputs": [
        {
          "output_type": "display_data",
          "data": {
            "image/png": "[encoded data removed]",
            "text/plain": [
              "<Figure size 432x288 with 1 Axes>"
            ]
          },
          "metadata": {
            "tags": []
          }
        }
      ]
    },
    {
      "cell_type": "markdown",
      "metadata": {
        "id": "VoCWl3uD_JCi",
        "colab_type": "text"
      },
      "source": [
        "**Observations**\n",
        "\n",
        "Average taxi speed is higher on weekend as compared to the weekdays which is obvious when there is mostly rush of office goers and business owners. Even on monday the average taxi speed is shown higher which is quite surprising when it is one of the most busiest day after the weekend. There can be several possibility for such behaviour Lot of customers who come back from outstation in early hours of Monday before 6 AM to attend office on time. Early morning hours customers who come from the airports after vacation to attend office/business on time for the coming week. There could be some more reasons as well which only a local must be aware of. We also can't deny the anomalies in the dataset. which is quite cumbersome to spot in such a large dataset."
      ]
    },
    {
      "cell_type": "markdown",
      "metadata": {
        "id": "aTiwY85-_O8F",
        "colab_type": "text"
      },
      "source": [
        "**Passenger count per vendor** \n",
        "\n",
        "Let's try some different metric in the series i.e. passenger count. We will plot it agaist the vendor only because it will not be much helpful to plot it against hour, weekday or month like others as the passenger count should be a whole number and not a ratio.\n",
        "\n",
        "we will take mean as the aggregate measure because we already did the outlier analysis on this metric. So our results woudn't be affected by some extreme values. Also if we take median than it will return only 1 because majorty of the trips have been taken by single passenger. Let's take a look about it's distribution."
      ]
    },
    {
      "cell_type": "code",
      "metadata": {
        "id": "cgh9ebdq_Uy0",
        "colab_type": "code",
        "colab": {
          "base_uri": "https://localhost:8080/",
          "height": 283
        },
        "outputId": "d30f07b4-644b-4742-820f-e4771424e1c8"
      },
      "source": [
        "group9 = train_df.groupby('vendor_id').passenger_count.mean()\n",
        "sns.barplot(group9.index, group9.values)\n",
        "plt.ylabel('Passenger count')\n",
        "plt.show()"
      ],
      "execution_count": 88,
      "outputs": [
        {
          "output_type": "display_data",
          "data": {
            "image/png": "[encoded data removed]",
            "text/plain": [
              "<Figure size 432x288 with 1 Axes>"
            ]
          },
          "metadata": {
            "tags": []
          }
        }
      ]
    },
    {
      "cell_type": "markdown",
      "metadata": {
        "id": "9eJoIhnH_YpV",
        "colab_type": "text"
      },
      "source": [
        "Clear difference between the two operators for the average passenger count in all trips. It seems that vendor 2 trips generally consist of 2 passengers as compared to the vendor 1 with 1 passenger. Let's bifurcate it further"
      ]
    },
    {
      "cell_type": "code",
      "metadata": {
        "id": "GpkVZ5bg_bCb",
        "colab_type": "code",
        "colab": {
          "base_uri": "https://localhost:8080/",
          "height": 281
        },
        "outputId": "30cc78cd-de0f-4dac-8213-b952fd85ca98"
      },
      "source": [
        "train_df.groupby('passenger_count').vendor_id.value_counts().reset_index(name='count').pivot(\"passenger_count\",\"vendor_id\",\"count\").plot(kind='bar')\n",
        "plt.show()"
      ],
      "execution_count": 89,
      "outputs": [
        {
          "output_type": "display_data",
          "data": {
            "image/png": "[encoded data removed]",
            "text/plain": [
              "<Figure size 432x288 with 1 Axes>"
            ]
          },
          "metadata": {
            "tags": []
          }
        }
      ]
    },
    {
      "cell_type": "markdown",
      "metadata": {
        "id": "mvIuY94Q_fDs",
        "colab_type": "text"
      },
      "source": [
        "**Interesting find**\n",
        "\n",
        "It seems that most of the big cars are served by the Vendor 2 including minivans because other than passenger 1, vendor 2 has majority in serving more than 1 passenger count and that explains it greater share of the market\n",
        "\n"
      ]
    },
    {
      "cell_type": "markdown",
      "metadata": {
        "id": "7uqa8kMKeXHn",
        "colab_type": "text"
      },
      "source": [
        "## Creating Dummy Variables"
      ]
    },
    {
      "cell_type": "markdown",
      "metadata": {
        "id": "w6eI4MPqeqM2",
        "colab_type": "text"
      },
      "source": [
        "We can start training our model at this point. However, to add the model accuracy, we can convert our categorical data into dummy variables. We will use the function in Pandas library to make the change"
      ]
    },
    {
      "cell_type": "code",
      "metadata": {
        "id": "qTkJ8_wT1WSO",
        "colab_type": "code",
        "colab": {}
      },
      "source": [
        "def create_dummy(df):\n",
        "  dummy = pd.get_dummies(df.store_and_fwd_flag, prefix='flag')\n",
        "  df = pd.concat([df,dummy],axis=1)\n",
        "\n",
        "  dummy = pd.get_dummies(df.vendor_id, prefix='vendor_id')\n",
        "  df = pd.concat([df,dummy],axis=1)\n",
        "\n",
        "  dummy = pd.get_dummies(df.passenger_count, prefix='passenger_count')\n",
        "  df = pd.concat([df,dummy],axis=1)\n",
        "\n",
        "  dummy = pd.get_dummies(df.month, prefix='month')\n",
        "  df = pd.concat([df,dummy],axis=1)\n",
        "  \n",
        "  dummy = pd.get_dummies(df.weekday_number, prefix='weekday_number')\n",
        "  df = pd.concat([df,dummy],axis=1)\n",
        "  \n",
        "  dummy = pd.get_dummies(df.pickup_hour, prefix='pickup_hour')\n",
        "  df = pd.concat([df,dummy],axis=1)\n",
        "  \n",
        "  return df"
      ],
      "execution_count": 0,
      "outputs": []
    },
    {
      "cell_type": "code",
      "metadata": {
        "id": "PZGo4Bc4u1na",
        "colab_type": "code",
        "colab": {}
      },
      "source": [
        "train_df = create_dummy(train_df)"
      ],
      "execution_count": 0,
      "outputs": []
    },
    {
      "cell_type": "code",
      "metadata": {
        "id": "CpnCuKs01hRQ",
        "colab_type": "code",
        "colab": {
          "base_uri": "https://localhost:8080/",
          "height": 32
        },
        "outputId": "cec48f3b-6ffc-4fb0-aa28-32eb7609a778"
      },
      "source": [
        "train_df.shape"
      ],
      "execution_count": 92,
      "outputs": [
        {
          "output_type": "execute_result",
          "data": {
            "text/plain": [
              "(1452035, 64)"
            ]
          },
          "metadata": {
            "tags": []
          },
          "execution_count": 92
        }
      ]
    },
    {
      "cell_type": "code",
      "metadata": {
        "id": "lyTTza6IZ8CJ",
        "colab_type": "code",
        "colab": {
          "base_uri": "https://localhost:8080/",
          "height": 1000
        },
        "outputId": "7c5e9362-4578-4bea-f80a-b8427f1dd843"
      },
      "source": [
        "# get the index of the features and label\n",
        "list(zip(range(0,len(train_df.columns)),train_df.columns))"
      ],
      "execution_count": 95,
      "outputs": [
        {
          "output_type": "execute_result",
          "data": {
            "text/plain": [
              "[(0, 'id'),\n",
              " (1, 'vendor_id'),\n",
              " (2, 'pickup_datetime'),\n",
              " (3, 'dropoff_datetime'),\n",
              " (4, 'passenger_count'),\n",
              " (5, 'pickup_longitude'),\n",
              " (6, 'pickup_latitude'),\n",
              " (7, 'dropoff_longitude'),\n",
              " (8, 'dropoff_latitude'),\n",
              " (9, 'store_and_fwd_flag'),\n",
              " (10, 'trip_duration'),\n",
              " (11, 'distance'),\n",
              " (12, 'speed'),\n",
              " (13, 'weekday'),\n",
              " (14, 'month'),\n",
              " (15, 'weekday_number'),\n",
              " (16, 'pickup_hour'),\n",
              " (17, 'flag_N'),\n",
              " (18, 'flag_Y'),\n",
              " (19, 'vendor_id_1'),\n",
              " (20, 'vendor_id_2'),\n",
              " (21, 'passenger_count_1'),\n",
              " (22, 'passenger_count_2'),\n",
              " (23, 'passenger_count_3'),\n",
              " (24, 'passenger_count_4'),\n",
              " (25, 'passenger_count_5'),\n",
              " (26, 'passenger_count_6'),\n",
              " (27, 'month_1'),\n",
              " (28, 'month_2'),\n",
              " (29, 'month_3'),\n",
              " (30, 'month_4'),\n",
              " (31, 'month_5'),\n",
              " (32, 'month_6'),\n",
              " (33, 'weekday_number_0'),\n",
              " (34, 'weekday_number_1'),\n",
              " (35, 'weekday_number_2'),\n",
              " (36, 'weekday_number_3'),\n",
              " (37, 'weekday_number_4'),\n",
              " (38, 'weekday_number_5'),\n",
              " (39, 'weekday_number_6'),\n",
              " (40, 'pickup_hour_0'),\n",
              " (41, 'pickup_hour_1'),\n",
              " (42, 'pickup_hour_2'),\n",
              " (43, 'pickup_hour_3'),\n",
              " (44, 'pickup_hour_4'),\n",
              " (45, 'pickup_hour_5'),\n",
              " (46, 'pickup_hour_6'),\n",
              " (47, 'pickup_hour_7'),\n",
              " (48, 'pickup_hour_8'),\n",
              " (49, 'pickup_hour_9'),\n",
              " (50, 'pickup_hour_10'),\n",
              " (51, 'pickup_hour_11'),\n",
              " (52, 'pickup_hour_12'),\n",
              " (53, 'pickup_hour_13'),\n",
              " (54, 'pickup_hour_14'),\n",
              " (55, 'pickup_hour_15'),\n",
              " (56, 'pickup_hour_16'),\n",
              " (57, 'pickup_hour_17'),\n",
              " (58, 'pickup_hour_18'),\n",
              " (59, 'pickup_hour_19'),\n",
              " (60, 'pickup_hour_20'),\n",
              " (61, 'pickup_hour_21'),\n",
              " (62, 'pickup_hour_22'),\n",
              " (63, 'pickup_hour_23')]"
            ]
          },
          "metadata": {
            "tags": []
          },
          "execution_count": 95
        }
      ]
    },
    {
      "cell_type": "code",
      "metadata": {
        "id": "bDwPW9fcZg1E",
        "colab_type": "code",
        "colab": {
          "base_uri": "https://localhost:8080/",
          "height": 85
        },
        "outputId": "1f67d258-e436-4d50-9224-e1ba6b356701"
      },
      "source": [
        "# drop all the redundant columns such as pickup_datetime, weekday, month etc.\n",
        "# and drop unneeded features such as id, speed (a dependant of duration)\n",
        "# also seperate features with labels\n",
        "\n",
        "X_train_set = train_df.iloc[:,np.r_[11,17:64]]\n",
        "y_train_set = train_df[\"trip_duration\"].copy()\n",
        "\n",
        "# General equation for multiple linear regression usually includes the constant value, \n",
        "# so we will add \"1\" to each instance first \n",
        "X_train_set = sm.add_constant(X_train_set)\n",
        "print(X_train_set.shape)"
      ],
      "execution_count": 96,
      "outputs": [
        {
          "output_type": "stream",
          "text": [
            "/usr/local/lib/python3.6/dist-packages/numpy/core/fromnumeric.py:2495: FutureWarning: Method .ptp is deprecated and will be removed in a future version. Use numpy.ptp instead.\n",
            "  return ptp(axis=axis, out=out, **kwargs)\n"
          ],
          "name": "stderr"
        },
        {
          "output_type": "stream",
          "text": [
            "(1452035, 49)\n"
          ],
          "name": "stdout"
        }
      ]
    },
    {
      "cell_type": "code",
      "metadata": {
        "id": "_LpOs9n5iiAO",
        "colab_type": "code",
        "colab": {
          "base_uri": "https://localhost:8080/",
          "height": 221
        },
        "outputId": "1b150aae-3f14-444d-f242-13f1732ff728"
      },
      "source": [
        "X_train_set.head()"
      ],
      "execution_count": 97,
      "outputs": [
        {
          "output_type": "execute_result",
          "data": {
            "text/html": [
              "<div>\n",
              "<style scoped>\n",
              "    .dataframe tbody tr th:only-of-type {\n",
              "        vertical-align: middle;\n",
              "    }\n",
              "\n",
              "    .dataframe tbody tr th {\n",
              "        vertical-align: top;\n",
              "    }\n",
              "\n",
              "    .dataframe thead th {\n",
              "        text-align: right;\n",
              "    }\n",
              "</style>\n",
              "<table border=\"1\" class=\"dataframe\">\n",
              "  <thead>\n",
              "    <tr style=\"text-align: right;\">\n",
              "      <th></th>\n",
              "      <th>const</th>\n",
              "      <th>distance</th>\n",
              "      <th>flag_N</th>\n",
              "      <th>flag_Y</th>\n",
              "      <th>vendor_id_1</th>\n",
              "      <th>vendor_id_2</th>\n",
              "      <th>passenger_count_1</th>\n",
              "      <th>passenger_count_2</th>\n",
              "      <th>passenger_count_3</th>\n",
              "      <th>passenger_count_4</th>\n",
              "      <th>passenger_count_5</th>\n",
              "      <th>passenger_count_6</th>\n",
              "      <th>month_1</th>\n",
              "      <th>month_2</th>\n",
              "      <th>month_3</th>\n",
              "      <th>month_4</th>\n",
              "      <th>month_5</th>\n",
              "      <th>month_6</th>\n",
              "      <th>weekday_number_0</th>\n",
              "      <th>weekday_number_1</th>\n",
              "      <th>weekday_number_2</th>\n",
              "      <th>weekday_number_3</th>\n",
              "      <th>weekday_number_4</th>\n",
              "      <th>weekday_number_5</th>\n",
              "      <th>weekday_number_6</th>\n",
              "      <th>pickup_hour_0</th>\n",
              "      <th>pickup_hour_1</th>\n",
              "      <th>pickup_hour_2</th>\n",
              "      <th>pickup_hour_3</th>\n",
              "      <th>pickup_hour_4</th>\n",
              "      <th>pickup_hour_5</th>\n",
              "      <th>pickup_hour_6</th>\n",
              "      <th>pickup_hour_7</th>\n",
              "      <th>pickup_hour_8</th>\n",
              "      <th>pickup_hour_9</th>\n",
              "      <th>pickup_hour_10</th>\n",
              "      <th>pickup_hour_11</th>\n",
              "      <th>pickup_hour_12</th>\n",
              "      <th>pickup_hour_13</th>\n",
              "      <th>pickup_hour_14</th>\n",
              "      <th>pickup_hour_15</th>\n",
              "      <th>pickup_hour_16</th>\n",
              "      <th>pickup_hour_17</th>\n",
              "      <th>pickup_hour_18</th>\n",
              "      <th>pickup_hour_19</th>\n",
              "      <th>pickup_hour_20</th>\n",
              "      <th>pickup_hour_21</th>\n",
              "      <th>pickup_hour_22</th>\n",
              "      <th>pickup_hour_23</th>\n",
              "    </tr>\n",
              "  </thead>\n",
              "  <tbody>\n",
              "    <tr>\n",
              "      <th>0</th>\n",
              "      <td>1.00</td>\n",
              "      <td>1.50</td>\n",
              "      <td>1</td>\n",
              "      <td>0</td>\n",
              "      <td>0</td>\n",
              "      <td>1</td>\n",
              "      <td>1</td>\n",
              "      <td>0</td>\n",
              "      <td>0</td>\n",
              "      <td>0</td>\n",
              "      <td>0</td>\n",
              "      <td>0</td>\n",
              "      <td>0</td>\n",
              "      <td>0</td>\n",
              "      <td>1</td>\n",
              "      <td>0</td>\n",
              "      <td>0</td>\n",
              "      <td>0</td>\n",
              "      <td>1</td>\n",
              "      <td>0</td>\n",
              "      <td>0</td>\n",
              "      <td>0</td>\n",
              "      <td>0</td>\n",
              "      <td>0</td>\n",
              "      <td>0</td>\n",
              "      <td>0</td>\n",
              "      <td>0</td>\n",
              "      <td>0</td>\n",
              "      <td>0</td>\n",
              "      <td>0</td>\n",
              "      <td>0</td>\n",
              "      <td>0</td>\n",
              "      <td>0</td>\n",
              "      <td>0</td>\n",
              "      <td>0</td>\n",
              "      <td>0</td>\n",
              "      <td>0</td>\n",
              "      <td>0</td>\n",
              "      <td>0</td>\n",
              "      <td>0</td>\n",
              "      <td>0</td>\n",
              "      <td>0</td>\n",
              "      <td>1</td>\n",
              "      <td>0</td>\n",
              "      <td>0</td>\n",
              "      <td>0</td>\n",
              "      <td>0</td>\n",
              "      <td>0</td>\n",
              "      <td>0</td>\n",
              "    </tr>\n",
              "    <tr>\n",
              "      <th>1</th>\n",
              "      <td>1.00</td>\n",
              "      <td>1.81</td>\n",
              "      <td>1</td>\n",
              "      <td>0</td>\n",
              "      <td>1</td>\n",
              "      <td>0</td>\n",
              "      <td>1</td>\n",
              "      <td>0</td>\n",
              "      <td>0</td>\n",
              "      <td>0</td>\n",
              "      <td>0</td>\n",
              "      <td>0</td>\n",
              "      <td>0</td>\n",
              "      <td>0</td>\n",
              "      <td>0</td>\n",
              "      <td>0</td>\n",
              "      <td>0</td>\n",
              "      <td>1</td>\n",
              "      <td>0</td>\n",
              "      <td>0</td>\n",
              "      <td>0</td>\n",
              "      <td>0</td>\n",
              "      <td>0</td>\n",
              "      <td>0</td>\n",
              "      <td>1</td>\n",
              "      <td>1</td>\n",
              "      <td>0</td>\n",
              "      <td>0</td>\n",
              "      <td>0</td>\n",
              "      <td>0</td>\n",
              "      <td>0</td>\n",
              "      <td>0</td>\n",
              "      <td>0</td>\n",
              "      <td>0</td>\n",
              "      <td>0</td>\n",
              "      <td>0</td>\n",
              "      <td>0</td>\n",
              "      <td>0</td>\n",
              "      <td>0</td>\n",
              "      <td>0</td>\n",
              "      <td>0</td>\n",
              "      <td>0</td>\n",
              "      <td>0</td>\n",
              "      <td>0</td>\n",
              "      <td>0</td>\n",
              "      <td>0</td>\n",
              "      <td>0</td>\n",
              "      <td>0</td>\n",
              "      <td>0</td>\n",
              "    </tr>\n",
              "    <tr>\n",
              "      <th>2</th>\n",
              "      <td>1.00</td>\n",
              "      <td>6.39</td>\n",
              "      <td>1</td>\n",
              "      <td>0</td>\n",
              "      <td>0</td>\n",
              "      <td>1</td>\n",
              "      <td>1</td>\n",
              "      <td>0</td>\n",
              "      <td>0</td>\n",
              "      <td>0</td>\n",
              "      <td>0</td>\n",
              "      <td>0</td>\n",
              "      <td>1</td>\n",
              "      <td>0</td>\n",
              "      <td>0</td>\n",
              "      <td>0</td>\n",
              "      <td>0</td>\n",
              "      <td>0</td>\n",
              "      <td>0</td>\n",
              "      <td>1</td>\n",
              "      <td>0</td>\n",
              "      <td>0</td>\n",
              "      <td>0</td>\n",
              "      <td>0</td>\n",
              "      <td>0</td>\n",
              "      <td>0</td>\n",
              "      <td>0</td>\n",
              "      <td>0</td>\n",
              "      <td>0</td>\n",
              "      <td>0</td>\n",
              "      <td>0</td>\n",
              "      <td>0</td>\n",
              "      <td>0</td>\n",
              "      <td>0</td>\n",
              "      <td>0</td>\n",
              "      <td>0</td>\n",
              "      <td>1</td>\n",
              "      <td>0</td>\n",
              "      <td>0</td>\n",
              "      <td>0</td>\n",
              "      <td>0</td>\n",
              "      <td>0</td>\n",
              "      <td>0</td>\n",
              "      <td>0</td>\n",
              "      <td>0</td>\n",
              "      <td>0</td>\n",
              "      <td>0</td>\n",
              "      <td>0</td>\n",
              "      <td>0</td>\n",
              "    </tr>\n",
              "    <tr>\n",
              "      <th>3</th>\n",
              "      <td>1.00</td>\n",
              "      <td>1.49</td>\n",
              "      <td>1</td>\n",
              "      <td>0</td>\n",
              "      <td>0</td>\n",
              "      <td>1</td>\n",
              "      <td>1</td>\n",
              "      <td>0</td>\n",
              "      <td>0</td>\n",
              "      <td>0</td>\n",
              "      <td>0</td>\n",
              "      <td>0</td>\n",
              "      <td>0</td>\n",
              "      <td>0</td>\n",
              "      <td>0</td>\n",
              "      <td>1</td>\n",
              "      <td>0</td>\n",
              "      <td>0</td>\n",
              "      <td>0</td>\n",
              "      <td>0</td>\n",
              "      <td>1</td>\n",
              "      <td>0</td>\n",
              "      <td>0</td>\n",
              "      <td>0</td>\n",
              "      <td>0</td>\n",
              "      <td>0</td>\n",
              "      <td>0</td>\n",
              "      <td>0</td>\n",
              "      <td>0</td>\n",
              "      <td>0</td>\n",
              "      <td>0</td>\n",
              "      <td>0</td>\n",
              "      <td>0</td>\n",
              "      <td>0</td>\n",
              "      <td>0</td>\n",
              "      <td>0</td>\n",
              "      <td>0</td>\n",
              "      <td>0</td>\n",
              "      <td>0</td>\n",
              "      <td>0</td>\n",
              "      <td>0</td>\n",
              "      <td>0</td>\n",
              "      <td>0</td>\n",
              "      <td>0</td>\n",
              "      <td>1</td>\n",
              "      <td>0</td>\n",
              "      <td>0</td>\n",
              "      <td>0</td>\n",
              "      <td>0</td>\n",
              "    </tr>\n",
              "    <tr>\n",
              "      <th>4</th>\n",
              "      <td>1.00</td>\n",
              "      <td>1.19</td>\n",
              "      <td>1</td>\n",
              "      <td>0</td>\n",
              "      <td>0</td>\n",
              "      <td>1</td>\n",
              "      <td>1</td>\n",
              "      <td>0</td>\n",
              "      <td>0</td>\n",
              "      <td>0</td>\n",
              "      <td>0</td>\n",
              "      <td>0</td>\n",
              "      <td>0</td>\n",
              "      <td>0</td>\n",
              "      <td>1</td>\n",
              "      <td>0</td>\n",
              "      <td>0</td>\n",
              "      <td>0</td>\n",
              "      <td>0</td>\n",
              "      <td>0</td>\n",
              "      <td>0</td>\n",
              "      <td>0</td>\n",
              "      <td>0</td>\n",
              "      <td>1</td>\n",
              "      <td>0</td>\n",
              "      <td>0</td>\n",
              "      <td>0</td>\n",
              "      <td>0</td>\n",
              "      <td>0</td>\n",
              "      <td>0</td>\n",
              "      <td>0</td>\n",
              "      <td>0</td>\n",
              "      <td>0</td>\n",
              "      <td>0</td>\n",
              "      <td>0</td>\n",
              "      <td>0</td>\n",
              "      <td>0</td>\n",
              "      <td>0</td>\n",
              "      <td>1</td>\n",
              "      <td>0</td>\n",
              "      <td>0</td>\n",
              "      <td>0</td>\n",
              "      <td>0</td>\n",
              "      <td>0</td>\n",
              "      <td>0</td>\n",
              "      <td>0</td>\n",
              "      <td>0</td>\n",
              "      <td>0</td>\n",
              "      <td>0</td>\n",
              "    </tr>\n",
              "  </tbody>\n",
              "</table>\n",
              "</div>"
            ],
            "text/plain": [
              "   const  distance  flag_N  ...  pickup_hour_21  pickup_hour_22  pickup_hour_23\n",
              "0   1.00      1.50       1  ...               0               0               0\n",
              "1   1.00      1.81       1  ...               0               0               0\n",
              "2   1.00      6.39       1  ...               0               0               0\n",
              "3   1.00      1.49       1  ...               0               0               0\n",
              "4   1.00      1.19       1  ...               0               0               0\n",
              "\n",
              "[5 rows x 49 columns]"
            ]
          },
          "metadata": {
            "tags": []
          },
          "execution_count": 97
        }
      ]
    },
    {
      "cell_type": "markdown",
      "metadata": {
        "id": "KTAiD_xqIo5x",
        "colab_type": "text"
      },
      "source": [
        "## Backward Feature selection"
      ]
    },
    {
      "cell_type": "markdown",
      "metadata": {
        "id": "fuS1xFgZLRCh",
        "colab_type": "text"
      },
      "source": [
        "\n",
        "We will run linear regression multiple time by using different combination of features and check p value of each regression iteration till we reach the level of p value that is less than 5%. If the regression p value is greater than 5%, we will reject the feature from the list of array and continue with next iteration until we reach the optimal combination of features."
      ]
    },
    {
      "cell_type": "code",
      "metadata": {
        "id": "l0Bx7kZxQPUw",
        "colab_type": "code",
        "colab": {}
      },
      "source": [
        "X_train_opt = X_train_set\n",
        "\n",
        "est = sm.OLS(y_train_set, X_train_opt)\n",
        "est2 = est.fit()\n",
        "# print(est2.summary())"
      ],
      "execution_count": 0,
      "outputs": []
    },
    {
      "cell_type": "code",
      "metadata": {
        "id": "SpILBV169n03",
        "colab_type": "code",
        "colab": {
          "base_uri": "https://localhost:8080/",
          "height": 32
        },
        "outputId": "a8e45b12-15d1-4fb5-843a-1cd3648808cc"
      },
      "source": [
        "X_train_opt.shape"
      ],
      "execution_count": 100,
      "outputs": [
        {
          "output_type": "execute_result",
          "data": {
            "text/plain": [
              "(1452035, 49)"
            ]
          },
          "metadata": {
            "tags": []
          },
          "execution_count": 100
        }
      ]
    },
    {
      "cell_type": "code",
      "metadata": {
        "id": "Bqke6O2qSgWh",
        "colab_type": "code",
        "colab": {
          "base_uri": "https://localhost:8080/",
          "height": 840
        },
        "outputId": "5430fd43-0f99-4142-eaba-ee45c3a6e7f4"
      },
      "source": [
        "# fetch p-value\n",
        "p_Vals = est2.pvalues\n",
        "print(p_Vals)"
      ],
      "execution_count": 101,
      "outputs": [
        {
          "output_type": "stream",
          "text": [
            "const               0.90\n",
            "distance            0.00\n",
            "flag_N              0.90\n",
            "flag_Y              0.90\n",
            "vendor_id_1         0.90\n",
            "vendor_id_2         0.90\n",
            "passenger_count_1   0.90\n",
            "passenger_count_2   0.90\n",
            "passenger_count_3   0.90\n",
            "passenger_count_4   0.90\n",
            "passenger_count_5   0.90\n",
            "passenger_count_6   0.90\n",
            "month_1             0.90\n",
            "month_2             0.90\n",
            "month_3             0.90\n",
            "month_4             0.90\n",
            "month_5             0.90\n",
            "month_6             0.90\n",
            "weekday_number_0    0.90\n",
            "weekday_number_1    0.90\n",
            "weekday_number_2    0.90\n",
            "weekday_number_3    0.90\n",
            "weekday_number_4    0.90\n",
            "weekday_number_5    0.90\n",
            "weekday_number_6    0.90\n",
            "pickup_hour_0       0.90\n",
            "pickup_hour_1       0.90\n",
            "pickup_hour_2       0.90\n",
            "pickup_hour_3       0.90\n",
            "pickup_hour_4       0.90\n",
            "pickup_hour_5       0.90\n",
            "pickup_hour_6       0.90\n",
            "pickup_hour_7       0.90\n",
            "pickup_hour_8       0.90\n",
            "pickup_hour_9       0.90\n",
            "pickup_hour_10      0.90\n",
            "pickup_hour_11      0.90\n",
            "pickup_hour_12      0.90\n",
            "pickup_hour_13      0.90\n",
            "pickup_hour_14      0.90\n",
            "pickup_hour_15      0.90\n",
            "pickup_hour_16      0.90\n",
            "pickup_hour_17      0.90\n",
            "pickup_hour_18      0.90\n",
            "pickup_hour_19      0.90\n",
            "pickup_hour_20      0.90\n",
            "pickup_hour_21      0.90\n",
            "pickup_hour_22      0.90\n",
            "pickup_hour_23      0.90\n",
            "dtype: float64\n"
          ],
          "name": "stdout"
        }
      ]
    },
    {
      "cell_type": "code",
      "metadata": {
        "id": "1orhsLDzOKo_",
        "colab_type": "code",
        "colab": {
          "base_uri": "https://localhost:8080/",
          "height": 1000
        },
        "outputId": "571d875b-2763-4d81-d352-622a03ad62d6"
      },
      "source": [
        "#define significance level for accepting the feature.\n",
        "sig_Level = 0.05\n",
        "\n",
        "#Looping over features and remove the feature with p value less than the 5%\n",
        "while max(p_Vals) > sig_Level:\n",
        "    \n",
        "    X_train_opt = X_train_opt.drop(X_train_opt.columns[np.argmax(np.array(p_Vals))],axis=1)\n",
        "\n",
        "    print(\"\\n\")\n",
        "    print(\"Feature at index {} is removed \\n\".format(str(np.argmax(np.array(p_Vals)))))\n",
        "    print(str(X_train_opt.shape[1]-1) + \" dimensions remaining now... \\n\")\n",
        "    \n",
        "    est = sm.OLS(y_train_set, X_train_opt)\n",
        "    est2 = est.fit()\n",
        "    p_Vals = est2.pvalues\n",
        "    print(\"=================================================================\\n\")\n"
      ],
      "execution_count": 102,
      "outputs": [
        {
          "output_type": "stream",
          "text": [
            "\n",
            "\n",
            "Feature at index 30 is removed \n",
            "\n",
            "47 dimensions remaining now... \n",
            "\n",
            "=================================================================\n",
            "\n",
            "\n",
            "\n",
            "Feature at index 21 is removed \n",
            "\n",
            "46 dimensions remaining now... \n",
            "\n",
            "=================================================================\n",
            "\n",
            "\n",
            "\n",
            "Feature at index 10 is removed \n",
            "\n",
            "45 dimensions remaining now... \n",
            "\n",
            "=================================================================\n",
            "\n",
            "\n",
            "\n",
            "Feature at index 7 is removed \n",
            "\n",
            "44 dimensions remaining now... \n",
            "\n",
            "=================================================================\n",
            "\n",
            "\n",
            "\n",
            "Feature at index 9 is removed \n",
            "\n",
            "43 dimensions remaining now... \n",
            "\n",
            "=================================================================\n",
            "\n",
            "\n",
            "\n",
            "Feature at index 14 is removed \n",
            "\n",
            "42 dimensions remaining now... \n",
            "\n",
            "=================================================================\n",
            "\n",
            "\n",
            "\n",
            "Feature at index 3 is removed \n",
            "\n",
            "41 dimensions remaining now... \n",
            "\n",
            "=================================================================\n",
            "\n",
            "\n",
            "\n",
            "Feature at index 2 is removed \n",
            "\n",
            "40 dimensions remaining now... \n",
            "\n",
            "=================================================================\n",
            "\n",
            "\n",
            "\n",
            "Feature at index 15 is removed \n",
            "\n",
            "39 dimensions remaining now... \n",
            "\n",
            "=================================================================\n",
            "\n",
            "\n",
            "\n",
            "Feature at index 11 is removed \n",
            "\n",
            "38 dimensions remaining now... \n",
            "\n",
            "=================================================================\n",
            "\n"
          ],
          "name": "stdout"
        }
      ]
    },
    {
      "cell_type": "code",
      "metadata": {
        "id": "4Jv-4wFf-C4B",
        "colab_type": "code",
        "colab": {
          "base_uri": "https://localhost:8080/",
          "height": 691
        },
        "outputId": "d812ac76-8569-46e9-8392-1744cdeea660"
      },
      "source": [
        "#Print final summary\n",
        "print(\"Final stat summary with optimal {} features\".format(str(X_train_opt.shape[1]-1)))\n",
        "print(est2.pvalues)"
      ],
      "execution_count": 103,
      "outputs": [
        {
          "output_type": "stream",
          "text": [
            "Final stat summary with optimal 38 features\n",
            "const               0.00\n",
            "distance            0.00\n",
            "vendor_id_1         0.00\n",
            "vendor_id_2         0.00\n",
            "passenger_count_1   0.00\n",
            "passenger_count_3   0.02\n",
            "passenger_count_4   0.00\n",
            "month_1             0.00\n",
            "month_2             0.00\n",
            "month_3             0.00\n",
            "month_4             0.00\n",
            "weekday_number_0    0.00\n",
            "weekday_number_1    0.00\n",
            "weekday_number_2    0.02\n",
            "weekday_number_5    0.00\n",
            "weekday_number_6    0.00\n",
            "pickup_hour_0       0.00\n",
            "pickup_hour_1       0.00\n",
            "pickup_hour_2       0.00\n",
            "pickup_hour_3       0.00\n",
            "pickup_hour_4       0.00\n",
            "pickup_hour_6       0.03\n",
            "pickup_hour_7       0.00\n",
            "pickup_hour_8       0.00\n",
            "pickup_hour_9       0.00\n",
            "pickup_hour_10      0.00\n",
            "pickup_hour_11      0.00\n",
            "pickup_hour_12      0.00\n",
            "pickup_hour_13      0.00\n",
            "pickup_hour_14      0.00\n",
            "pickup_hour_15      0.00\n",
            "pickup_hour_16      0.00\n",
            "pickup_hour_17      0.00\n",
            "pickup_hour_18      0.00\n",
            "pickup_hour_19      0.00\n",
            "pickup_hour_20      0.00\n",
            "pickup_hour_21      0.00\n",
            "pickup_hour_22      0.00\n",
            "pickup_hour_23      0.00\n",
            "dtype: float64\n"
          ],
          "name": "stdout"
        }
      ]
    },
    {
      "cell_type": "markdown",
      "metadata": {
        "id": "j-Y9LSxEmCDW",
        "colab_type": "text"
      },
      "source": [
        "# Modelling\n",
        "\n",
        "\n",
        "---\n",
        "\n"
      ]
    },
    {
      "cell_type": "markdown",
      "metadata": {
        "id": "FFMZCBXSARZ2",
        "colab_type": "text"
      },
      "source": [
        "## Linear Regression"
      ]
    },
    {
      "cell_type": "markdown",
      "metadata": {
        "id": "YI6uIrjCAZ8U",
        "colab_type": "text"
      },
      "source": [
        "### Using all features"
      ]
    },
    {
      "cell_type": "code",
      "metadata": {
        "id": "KP4gGNVkqhbC",
        "colab_type": "code",
        "colab": {}
      },
      "source": [
        "#Split data from the all features\n",
        "X_train_all, X_test_all, y_train_all, y_test_all = train_test_split(X_train_set,y_train_set, random_state=4, test_size=0.2)"
      ],
      "execution_count": 0,
      "outputs": []
    },
    {
      "cell_type": "code",
      "metadata": {
        "id": "7eAUenr0WdvD",
        "colab_type": "code",
        "colab": {
          "base_uri": "https://localhost:8080/",
          "height": 32
        },
        "outputId": "dadfb9a0-0d85-4f57-db85-41f07dad83ef"
      },
      "source": [
        "#Linear regressor for all features\n",
        "regressor0 = LinearRegression() \n",
        "regressor0.fit(X_train_all,y_train_all) "
      ],
      "execution_count": 105,
      "outputs": [
        {
          "output_type": "execute_result",
          "data": {
            "text/plain": [
              "LinearRegression(copy_X=True, fit_intercept=True, n_jobs=None, normalize=False)"
            ]
          },
          "metadata": {
            "tags": []
          },
          "execution_count": 105
        }
      ]
    },
    {
      "cell_type": "code",
      "metadata": {
        "id": "NX9cDLCzXBZR",
        "colab_type": "code",
        "colab": {}
      },
      "source": [
        "#Predict from the test features of Feature Selection group\n",
        "y_pred_all = regressor0.predict(X_test_all) "
      ],
      "execution_count": 0,
      "outputs": []
    },
    {
      "cell_type": "markdown",
      "metadata": {
        "id": "-moWpbosAewC",
        "colab_type": "text"
      },
      "source": [
        "### Using the selected features"
      ]
    },
    {
      "cell_type": "code",
      "metadata": {
        "id": "QxDuRHD7_ByT",
        "colab_type": "code",
        "colab": {}
      },
      "source": [
        "#Split data from the feature selection group\n",
        "X_train_fs, X_test_fs, y_train_fs, y_test_fs = train_test_split(X_train_opt,y_train_set, random_state=4, test_size=0.2)"
      ],
      "execution_count": 0,
      "outputs": []
    },
    {
      "cell_type": "code",
      "metadata": {
        "id": "89S9nMgR_Vb4",
        "colab_type": "code",
        "colab": {
          "base_uri": "https://localhost:8080/",
          "height": 32
        },
        "outputId": "065c49bf-e3aa-422e-b15d-6d1b05b8506e"
      },
      "source": [
        "#Linear regressor for the Feature selection group\n",
        "regressor1 = LinearRegression() \n",
        "regressor1.fit(X_train_fs,y_train_fs) "
      ],
      "execution_count": 108,
      "outputs": [
        {
          "output_type": "execute_result",
          "data": {
            "text/plain": [
              "LinearRegression(copy_X=True, fit_intercept=True, n_jobs=None, normalize=False)"
            ]
          },
          "metadata": {
            "tags": []
          },
          "execution_count": 108
        }
      ]
    },
    {
      "cell_type": "code",
      "metadata": {
        "id": "A_wictRz_eVL",
        "colab_type": "code",
        "colab": {}
      },
      "source": [
        "#Predict from the test features of Feature Selection group\n",
        "y_pred_fs = regressor1.predict(X_test_fs) "
      ],
      "execution_count": 0,
      "outputs": []
    },
    {
      "cell_type": "code",
      "metadata": {
        "id": "wsKguu29_j2C",
        "colab_type": "code",
        "colab": {
          "base_uri": "https://localhost:8080/",
          "height": 148
        },
        "outputId": "21e6243f-89e3-407f-acd7-6a42984718f1"
      },
      "source": [
        "#Evaluate the models\n",
        "\n",
        "print('RMSE score for the Multiple LR using all features is : {}'.format(np.sqrt(metrics.mean_squared_error(y_test_all,y_pred_all))))\n",
        "print('Variance score for the Multiple LR is : %.2f' % regressor0.score(X_test_all, y_test_all))\n",
        "print(\"\\n\")\n",
        "\n",
        "print('RMSE score for the Multiple LR FS is : {}'.format(np.sqrt(metrics.mean_squared_error(y_test_fs,y_pred_fs))))\n",
        "print('Variance score for the Multiple LR FS is : %.2f' % regressor1.score(X_test_fs, y_test_fs))\n",
        "print(\"\\n\")"
      ],
      "execution_count": 110,
      "outputs": [
        {
          "output_type": "stream",
          "text": [
            "RMSE score for the Multiple LR using all features is : 3113.4180587693063\n",
            "Variance score for the Multiple LR is : 0.03\n",
            "\n",
            "\n",
            "RMSE score for the Multiple LR FS is : 3113.408582850768\n",
            "Variance score for the Multiple LR FS is : 0.03\n",
            "\n",
            "\n"
          ],
          "name": "stdout"
        }
      ]
    },
    {
      "cell_type": "markdown",
      "metadata": {
        "id": "BWYDfZLWXzYz",
        "colab_type": "text"
      },
      "source": [
        "both of the regreesor are bad :(\n",
        "\n",
        "they all have very high root mean squared value and low variance score\n",
        "\n",
        "why is this?"
      ]
    },
    {
      "cell_type": "markdown",
      "metadata": {
        "id": "0iG9xOqk53Ch",
        "colab_type": "text"
      },
      "source": [
        "### Correlation"
      ]
    },
    {
      "cell_type": "code",
      "metadata": {
        "id": "inbZaIlG4tNZ",
        "colab_type": "code",
        "colab": {
          "base_uri": "https://localhost:8080/",
          "height": 1000
        },
        "outputId": "b870ee51-f1aa-489f-fb52-8dd496c8b6a1"
      },
      "source": [
        "corr_matrix = train_df.corr()\n",
        "corr_matrix[\"trip_duration\"].sort_values(ascending=False)"
      ],
      "execution_count": 111,
      "outputs": [
        {
          "output_type": "execute_result",
          "data": {
            "text/plain": [
              "trip_duration        1.00\n",
              "distance             0.16\n",
              "pickup_longitude     0.04\n",
              "vendor_id_2          0.04\n",
              "vendor_id            0.04\n",
              "dropoff_longitude    0.03\n",
              "passenger_count      0.01\n",
              "month                0.01\n",
              "pickup_hour_15       0.01\n",
              "pickup_hour_14       0.01\n",
              "passenger_count_5    0.01\n",
              "pickup_hour_16       0.01\n",
              "month_6              0.01\n",
              "weekday_number_3     0.01\n",
              "month_5              0.01\n",
              "passenger_count_6    0.01\n",
              "pickup_hour          0.01\n",
              "pickup_hour_17       0.01\n",
              "pickup_hour_13       0.01\n",
              "passenger_count_2    0.01\n",
              "weekday_number_4     0.00\n",
              "passenger_count_3    0.00\n",
              "passenger_count_4    0.00\n",
              "flag_Y               0.00\n",
              "pickup_hour_12       0.00\n",
              "weekday_number_2     0.00\n",
              "pickup_hour_18       0.00\n",
              "month_4              0.00\n",
              "weekday_number_1     0.00\n",
              "pickup_hour_11       0.00\n",
              "pickup_hour_22       0.00\n",
              "pickup_hour_4       -0.00\n",
              "pickup_hour_10      -0.00\n",
              "pickup_hour_9       -0.00\n",
              "weekday_number      -0.00\n",
              "pickup_hour_8       -0.00\n",
              "pickup_hour_23      -0.00\n",
              "month_3             -0.00\n",
              "pickup_hour_3       -0.00\n",
              "pickup_hour_1       -0.00\n",
              "pickup_hour_2       -0.00\n",
              "flag_N              -0.00\n",
              "pickup_hour_0       -0.00\n",
              "weekday_number_5    -0.00\n",
              "pickup_hour_5       -0.00\n",
              "pickup_hour_19      -0.00\n",
              "pickup_hour_21      -0.00\n",
              "pickup_hour_20      -0.01\n",
              "weekday_number_6    -0.01\n",
              "month_1             -0.01\n",
              "weekday_number_0    -0.01\n",
              "pickup_hour_7       -0.01\n",
              "month_2             -0.01\n",
              "pickup_hour_6       -0.01\n",
              "passenger_count_1   -0.01\n",
              "vendor_id_1         -0.04\n",
              "dropoff_latitude    -0.04\n",
              "pickup_latitude     -0.05\n",
              "speed               -0.06\n",
              "Name: trip_duration, dtype: float64"
            ]
          },
          "metadata": {
            "tags": []
          },
          "execution_count": 111
        }
      ]
    },
    {
      "cell_type": "markdown",
      "metadata": {
        "id": "hhC7kP9NL6a6",
        "colab_type": "text"
      },
      "source": [
        "the correlation between each feature and duration is relative small when we calculate the Pearson correlation as shown above. None of the features is linearly correlated with the target variable\n",
        "\n",
        "let's see if we can use other regressors..."
      ]
    },
    {
      "cell_type": "markdown",
      "metadata": {
        "id": "IMqntZiXa5a0",
        "colab_type": "text"
      },
      "source": [
        "## Decision Trees Regression"
      ]
    },
    {
      "cell_type": "markdown",
      "metadata": {
        "id": "Btr78oxZbMT_",
        "colab_type": "text"
      },
      "source": [
        "We also learned in class that Decision Trees are also capable of performing regression tasks. We will try to build a regression tree using Scikit-Learn's DecisionTreeRegressor class"
      ]
    },
    {
      "cell_type": "code",
      "metadata": {
        "id": "9EMu1bNcbCrs",
        "colab_type": "code",
        "colab": {}
      },
      "source": [
        "#Decision Trees regressor for all features\n",
        "tree_reg_full = DecisionTreeRegressor(max_depth=2)\n",
        "tree_reg_full.fit(X_train_all,y_train_all) \n",
        "#Predict from the test features of Feature Selection group\n",
        "y_pred_tree_reg_all = tree_reg_full.predict(X_test_all) "
      ],
      "execution_count": 0,
      "outputs": []
    },
    {
      "cell_type": "code",
      "metadata": {
        "id": "by439vGIiDH5",
        "colab_type": "code",
        "colab": {}
      },
      "source": [
        "#Decision Trees regressor for all features\n",
        "tree_reg_fs = DecisionTreeRegressor(max_depth=2)\n",
        "tree_reg_fs.fit(X_train_fs,y_train_fs) \n",
        "#Predict from the test features of Feature Selection group\n",
        "y_pred_tree_reg_fs = tree_reg_fs.predict(X_test_fs) "
      ],
      "execution_count": 0,
      "outputs": []
    },
    {
      "cell_type": "code",
      "metadata": {
        "id": "_Nx_Gyvpfdlw",
        "colab_type": "code",
        "colab": {
          "base_uri": "https://localhost:8080/",
          "height": 115
        },
        "outputId": "e7550f4d-19c8-4374-a1b0-4b4e48b40575"
      },
      "source": [
        "print('RMSE score for Decision Trees Regressor using full features is : {}'.format(np.sqrt(metrics.mean_squared_error(y_test_all,y_pred_tree_reg_all))))\n",
        "print(\"\\n\")\n",
        "\n",
        "print('RMSE score for Decision Trees Regressor using selected features is : {}'.format(np.sqrt(metrics.mean_squared_error(y_test_fs,y_pred_tree_reg_fs))))\n",
        "print(\"\\n\")\n"
      ],
      "execution_count": 114,
      "outputs": [
        {
          "output_type": "stream",
          "text": [
            "RMSE score for Decision Trees Regressor using full features is : 3119.723067714251\n",
            "\n",
            "\n",
            "RMSE score for Decision Trees Regressor using selected features is : 3119.723067714251\n",
            "\n",
            "\n"
          ],
          "name": "stdout"
        }
      ]
    },
    {
      "cell_type": "markdown",
      "metadata": {
        "id": "nNNhrGetgIBC",
        "colab_type": "text"
      },
      "source": [
        "It actually got worse by using Decision Trees Regressors. \n",
        "One interesting thing is that the RMSE scores are the same for both the full features and selected features for training. \n",
        "We will move one to the next training algorithm - Gradient Boosting"
      ]
    },
    {
      "cell_type": "markdown",
      "metadata": {
        "id": "eQWvg093bINM",
        "colab_type": "text"
      },
      "source": [
        "## Random Forest Regression"
      ]
    },
    {
      "cell_type": "code",
      "metadata": {
        "id": "SkA-UV2hUQ4c",
        "colab_type": "code",
        "colab": {
          "base_uri": "https://localhost:8080/",
          "height": 217
        },
        "outputId": "80e097f0-5485-443b-9cc0-56912b4d4536"
      },
      "source": [
        "#instantiate the object for the Random Forest Regressor with default params from raw data\n",
        "regressor_rf_full = RandomForestRegressor(n_jobs=-1)\n",
        "\n",
        "#instantiate the object for the Random Forest Regressor with default params for Feature Selection Group\n",
        "regressor_rf_fs = RandomForestRegressor(n_jobs=-1)\n",
        "\n",
        "#Train the object with default params for raw data\n",
        "regressor_rf_full.fit(X_train_all,y_train_all)\n",
        "\n",
        "#Train the object with default params for Feature Selection Group\n",
        "regressor_rf_fs.fit(X_train_fs,y_train_fs)"
      ],
      "execution_count": 115,
      "outputs": [
        {
          "output_type": "stream",
          "text": [
            "/usr/local/lib/python3.6/dist-packages/sklearn/ensemble/forest.py:245: FutureWarning: The default value of n_estimators will change from 10 in version 0.20 to 100 in 0.22.\n",
            "  \"10 in version 0.20 to 100 in 0.22.\", FutureWarning)\n",
            "/usr/local/lib/python3.6/dist-packages/sklearn/ensemble/forest.py:245: FutureWarning: The default value of n_estimators will change from 10 in version 0.20 to 100 in 0.22.\n",
            "  \"10 in version 0.20 to 100 in 0.22.\", FutureWarning)\n"
          ],
          "name": "stderr"
        },
        {
          "output_type": "execute_result",
          "data": {
            "text/plain": [
              "RandomForestRegressor(bootstrap=True, criterion='mse', max_depth=None,\n",
              "                      max_features='auto', max_leaf_nodes=None,\n",
              "                      min_impurity_decrease=0.0, min_impurity_split=None,\n",
              "                      min_samples_leaf=1, min_samples_split=2,\n",
              "                      min_weight_fraction_leaf=0.0, n_estimators=10, n_jobs=-1,\n",
              "                      oob_score=False, random_state=None, verbose=0,\n",
              "                      warm_start=False)"
            ]
          },
          "metadata": {
            "tags": []
          },
          "execution_count": 115
        }
      ]
    },
    {
      "cell_type": "code",
      "metadata": {
        "id": "GLlcGgrdlY8y",
        "colab_type": "code",
        "colab": {}
      },
      "source": [
        "#Predict the output with object of default params for Feature Selection Group\n",
        "y_pred_rf_full = regressor_rf_full.predict(X_test_all)\n",
        "\n",
        "#Predict the output with object of default params for Feature Selection Group\n",
        "y_pred_rf_fs = regressor_rf_fs.predict(X_test_fs)\n"
      ],
      "execution_count": 0,
      "outputs": []
    },
    {
      "cell_type": "code",
      "metadata": {
        "id": "BO75Nlrglk6m",
        "colab_type": "code",
        "colab": {
          "base_uri": "https://localhost:8080/",
          "height": 49
        },
        "outputId": "90812d9f-fa99-4d99-a4e1-4a32da28f732"
      },
      "source": [
        "print(np.sqrt(metrics.mean_squared_error(y_test_all,y_pred_rf_full)))\n",
        "print(np.sqrt(metrics.mean_squared_error(y_test_fs,y_pred_rf_fs)))"
      ],
      "execution_count": 117,
      "outputs": [
        {
          "output_type": "stream",
          "text": [
            "3469.599150144488\n",
            "3471.921927545865\n"
          ],
          "name": "stdout"
        }
      ]
    },
    {
      "cell_type": "markdown",
      "metadata": {
        "id": "eO--mAKCqqJ1",
        "colab_type": "text"
      },
      "source": [
        "In the outcome of this model the resulted RMSR are even bigger than Decision Tress. Therefore, we will try yet another algo to see if we get a lower RMSR."
      ]
    },
    {
      "cell_type": "markdown",
      "metadata": {
        "id": "hC3yfK1rbcpL",
        "colab_type": "text"
      },
      "source": [
        "## XGBoost Regression"
      ]
    },
    {
      "cell_type": "code",
      "metadata": {
        "id": "lF_NH1ZOboSQ",
        "colab_type": "code",
        "colab": {}
      },
      "source": [
        "import xgboost as xgb"
      ],
      "execution_count": 0,
      "outputs": []
    },
    {
      "cell_type": "code",
      "metadata": {
        "id": "1XUSkduRbow4",
        "colab_type": "code",
        "colab": {
          "base_uri": "https://localhost:8080/",
          "height": 69
        },
        "outputId": "51a0be04-03c4-4fe1-a462-b66cc04bf51a"
      },
      "source": [
        "# prepare data in the test.csv\n",
        "test_df = pd.read_csv('./test.csv')\n",
        "# 1. get distance\n",
        "test_df['distance'] = test_df.apply(lambda x: calc_distance(x), axis = 1)\n",
        "# 2. get Time and Date\n",
        "convert_datetime(test_df)\n",
        "# 3. get dummy \n",
        "test_df = create_dummy(test_df)\n",
        "test_ID = test_df[\"id\"].copy()\n",
        "test = test_df.drop(['id','vendor_id','pickup_datetime','passenger_count','store_and_fwd_flag','month','weekday_number','pickup_hour', 'weekday',\n",
        "                   'pickup_longitude','pickup_latitude','dropoff_longitude','dropoff_latitude', 'passenger_count_0'], axis = 1)\n",
        "\n",
        "\n",
        "test = sm.add_constant(test)"
      ],
      "execution_count": 119,
      "outputs": [
        {
          "output_type": "stream",
          "text": [
            "/usr/local/lib/python3.6/dist-packages/numpy/core/fromnumeric.py:2495: FutureWarning: Method .ptp is deprecated and will be removed in a future version. Use numpy.ptp instead.\n",
            "  return ptp(axis=axis, out=out, **kwargs)\n"
          ],
          "name": "stderr"
        }
      ]
    },
    {
      "cell_type": "code",
      "metadata": {
        "id": "M2F82cb2bqdj",
        "colab_type": "code",
        "colab": {
          "base_uri": "https://localhost:8080/",
          "height": 49
        },
        "outputId": "e08993a2-aee4-4c2e-e769-c424082c2daf"
      },
      "source": [
        "print(test.shape)\n",
        "print(X_train_all.shape)"
      ],
      "execution_count": 120,
      "outputs": [
        {
          "output_type": "stream",
          "text": [
            "(625134, 50)\n",
            "(1161628, 49)\n"
          ],
          "name": "stdout"
        }
      ]
    },
    {
      "cell_type": "code",
      "metadata": {
        "id": "WgvG0gybbtaJ",
        "colab_type": "code",
        "colab": {
          "base_uri": "https://localhost:8080/",
          "height": 32
        },
        "outputId": "db1ff946-c341-4882-dec0-171ea9f3c703"
      },
      "source": [
        "# make sure all columns in testing set are the same as in training set\n",
        "test.columns.difference(X_train_all.columns)"
      ],
      "execution_count": 121,
      "outputs": [
        {
          "output_type": "execute_result",
          "data": {
            "text/plain": [
              "Index(['passenger_count_9'], dtype='object')"
            ]
          },
          "metadata": {
            "tags": []
          },
          "execution_count": 121
        }
      ]
    },
    {
      "cell_type": "code",
      "metadata": {
        "id": "gHLvo2pHbvaE",
        "colab_type": "code",
        "colab": {
          "base_uri": "https://localhost:8080/",
          "height": 32
        },
        "outputId": "27e821bd-8a20-4b60-fb8e-20c287ce898c"
      },
      "source": [
        "test.columns.get_loc(\"passenger_count_9\")"
      ],
      "execution_count": 122,
      "outputs": [
        {
          "output_type": "execute_result",
          "data": {
            "text/plain": [
              "12"
            ]
          },
          "metadata": {
            "tags": []
          },
          "execution_count": 122
        }
      ]
    },
    {
      "cell_type": "code",
      "metadata": {
        "id": "hv_qboyVojaM",
        "colab_type": "code",
        "colab": {}
      },
      "source": [
        "# X_train_all = X_train_all.drop(['passenger_count_9'], axis = 1)\n"
      ],
      "execution_count": 0,
      "outputs": []
    },
    {
      "cell_type": "code",
      "metadata": {
        "id": "2lZ_BNMHbwKB",
        "colab_type": "code",
        "colab": {}
      },
      "source": [
        "X_train_all.insert(loc=12,column=\"passenger_count_9\",value=0)"
      ],
      "execution_count": 0,
      "outputs": []
    },
    {
      "cell_type": "code",
      "metadata": {
        "id": "Jj_Kpxtubx8s",
        "colab_type": "code",
        "colab": {
          "base_uri": "https://localhost:8080/",
          "height": 221
        },
        "outputId": "54d8e3ed-25b7-4e6d-e0bf-2c36fb6ea14c"
      },
      "source": [
        "X_train_all.head()"
      ],
      "execution_count": 124,
      "outputs": [
        {
          "output_type": "execute_result",
          "data": {
            "text/html": [
              "<div>\n",
              "<style scoped>\n",
              "    .dataframe tbody tr th:only-of-type {\n",
              "        vertical-align: middle;\n",
              "    }\n",
              "\n",
              "    .dataframe tbody tr th {\n",
              "        vertical-align: top;\n",
              "    }\n",
              "\n",
              "    .dataframe thead th {\n",
              "        text-align: right;\n",
              "    }\n",
              "</style>\n",
              "<table border=\"1\" class=\"dataframe\">\n",
              "  <thead>\n",
              "    <tr style=\"text-align: right;\">\n",
              "      <th></th>\n",
              "      <th>const</th>\n",
              "      <th>distance</th>\n",
              "      <th>flag_N</th>\n",
              "      <th>flag_Y</th>\n",
              "      <th>vendor_id_1</th>\n",
              "      <th>vendor_id_2</th>\n",
              "      <th>passenger_count_1</th>\n",
              "      <th>passenger_count_2</th>\n",
              "      <th>passenger_count_3</th>\n",
              "      <th>passenger_count_4</th>\n",
              "      <th>passenger_count_5</th>\n",
              "      <th>passenger_count_6</th>\n",
              "      <th>passenger_count_9</th>\n",
              "      <th>month_1</th>\n",
              "      <th>month_2</th>\n",
              "      <th>month_3</th>\n",
              "      <th>month_4</th>\n",
              "      <th>month_5</th>\n",
              "      <th>month_6</th>\n",
              "      <th>weekday_number_0</th>\n",
              "      <th>weekday_number_1</th>\n",
              "      <th>weekday_number_2</th>\n",
              "      <th>weekday_number_3</th>\n",
              "      <th>weekday_number_4</th>\n",
              "      <th>weekday_number_5</th>\n",
              "      <th>weekday_number_6</th>\n",
              "      <th>pickup_hour_0</th>\n",
              "      <th>pickup_hour_1</th>\n",
              "      <th>pickup_hour_2</th>\n",
              "      <th>pickup_hour_3</th>\n",
              "      <th>pickup_hour_4</th>\n",
              "      <th>pickup_hour_5</th>\n",
              "      <th>pickup_hour_6</th>\n",
              "      <th>pickup_hour_7</th>\n",
              "      <th>pickup_hour_8</th>\n",
              "      <th>pickup_hour_9</th>\n",
              "      <th>pickup_hour_10</th>\n",
              "      <th>pickup_hour_11</th>\n",
              "      <th>pickup_hour_12</th>\n",
              "      <th>pickup_hour_13</th>\n",
              "      <th>pickup_hour_14</th>\n",
              "      <th>pickup_hour_15</th>\n",
              "      <th>pickup_hour_16</th>\n",
              "      <th>pickup_hour_17</th>\n",
              "      <th>pickup_hour_18</th>\n",
              "      <th>pickup_hour_19</th>\n",
              "      <th>pickup_hour_20</th>\n",
              "      <th>pickup_hour_21</th>\n",
              "      <th>pickup_hour_22</th>\n",
              "      <th>pickup_hour_23</th>\n",
              "    </tr>\n",
              "  </thead>\n",
              "  <tbody>\n",
              "    <tr>\n",
              "      <th>802829</th>\n",
              "      <td>1.00</td>\n",
              "      <td>2.55</td>\n",
              "      <td>1</td>\n",
              "      <td>0</td>\n",
              "      <td>1</td>\n",
              "      <td>0</td>\n",
              "      <td>1</td>\n",
              "      <td>0</td>\n",
              "      <td>0</td>\n",
              "      <td>0</td>\n",
              "      <td>0</td>\n",
              "      <td>0</td>\n",
              "      <td>0</td>\n",
              "      <td>0</td>\n",
              "      <td>0</td>\n",
              "      <td>1</td>\n",
              "      <td>0</td>\n",
              "      <td>0</td>\n",
              "      <td>0</td>\n",
              "      <td>0</td>\n",
              "      <td>0</td>\n",
              "      <td>0</td>\n",
              "      <td>0</td>\n",
              "      <td>0</td>\n",
              "      <td>1</td>\n",
              "      <td>0</td>\n",
              "      <td>0</td>\n",
              "      <td>0</td>\n",
              "      <td>0</td>\n",
              "      <td>0</td>\n",
              "      <td>0</td>\n",
              "      <td>0</td>\n",
              "      <td>0</td>\n",
              "      <td>0</td>\n",
              "      <td>0</td>\n",
              "      <td>0</td>\n",
              "      <td>0</td>\n",
              "      <td>0</td>\n",
              "      <td>0</td>\n",
              "      <td>0</td>\n",
              "      <td>0</td>\n",
              "      <td>0</td>\n",
              "      <td>0</td>\n",
              "      <td>0</td>\n",
              "      <td>0</td>\n",
              "      <td>0</td>\n",
              "      <td>0</td>\n",
              "      <td>1</td>\n",
              "      <td>0</td>\n",
              "      <td>0</td>\n",
              "    </tr>\n",
              "    <tr>\n",
              "      <th>661568</th>\n",
              "      <td>1.00</td>\n",
              "      <td>0.82</td>\n",
              "      <td>1</td>\n",
              "      <td>0</td>\n",
              "      <td>1</td>\n",
              "      <td>0</td>\n",
              "      <td>1</td>\n",
              "      <td>0</td>\n",
              "      <td>0</td>\n",
              "      <td>0</td>\n",
              "      <td>0</td>\n",
              "      <td>0</td>\n",
              "      <td>0</td>\n",
              "      <td>0</td>\n",
              "      <td>0</td>\n",
              "      <td>0</td>\n",
              "      <td>1</td>\n",
              "      <td>0</td>\n",
              "      <td>0</td>\n",
              "      <td>0</td>\n",
              "      <td>0</td>\n",
              "      <td>0</td>\n",
              "      <td>0</td>\n",
              "      <td>1</td>\n",
              "      <td>0</td>\n",
              "      <td>0</td>\n",
              "      <td>0</td>\n",
              "      <td>0</td>\n",
              "      <td>0</td>\n",
              "      <td>0</td>\n",
              "      <td>1</td>\n",
              "      <td>0</td>\n",
              "      <td>0</td>\n",
              "      <td>0</td>\n",
              "      <td>0</td>\n",
              "      <td>0</td>\n",
              "      <td>0</td>\n",
              "      <td>0</td>\n",
              "      <td>0</td>\n",
              "      <td>0</td>\n",
              "      <td>0</td>\n",
              "      <td>0</td>\n",
              "      <td>0</td>\n",
              "      <td>0</td>\n",
              "      <td>0</td>\n",
              "      <td>0</td>\n",
              "      <td>0</td>\n",
              "      <td>0</td>\n",
              "      <td>0</td>\n",
              "      <td>0</td>\n",
              "    </tr>\n",
              "    <tr>\n",
              "      <th>376904</th>\n",
              "      <td>1.00</td>\n",
              "      <td>15.66</td>\n",
              "      <td>1</td>\n",
              "      <td>0</td>\n",
              "      <td>1</td>\n",
              "      <td>0</td>\n",
              "      <td>1</td>\n",
              "      <td>0</td>\n",
              "      <td>0</td>\n",
              "      <td>0</td>\n",
              "      <td>0</td>\n",
              "      <td>0</td>\n",
              "      <td>0</td>\n",
              "      <td>1</td>\n",
              "      <td>0</td>\n",
              "      <td>0</td>\n",
              "      <td>0</td>\n",
              "      <td>0</td>\n",
              "      <td>0</td>\n",
              "      <td>0</td>\n",
              "      <td>0</td>\n",
              "      <td>0</td>\n",
              "      <td>0</td>\n",
              "      <td>0</td>\n",
              "      <td>0</td>\n",
              "      <td>1</td>\n",
              "      <td>0</td>\n",
              "      <td>0</td>\n",
              "      <td>0</td>\n",
              "      <td>0</td>\n",
              "      <td>0</td>\n",
              "      <td>0</td>\n",
              "      <td>0</td>\n",
              "      <td>0</td>\n",
              "      <td>0</td>\n",
              "      <td>0</td>\n",
              "      <td>0</td>\n",
              "      <td>0</td>\n",
              "      <td>0</td>\n",
              "      <td>1</td>\n",
              "      <td>0</td>\n",
              "      <td>0</td>\n",
              "      <td>0</td>\n",
              "      <td>0</td>\n",
              "      <td>0</td>\n",
              "      <td>0</td>\n",
              "      <td>0</td>\n",
              "      <td>0</td>\n",
              "      <td>0</td>\n",
              "      <td>0</td>\n",
              "    </tr>\n",
              "    <tr>\n",
              "      <th>815680</th>\n",
              "      <td>1.00</td>\n",
              "      <td>1.81</td>\n",
              "      <td>1</td>\n",
              "      <td>0</td>\n",
              "      <td>1</td>\n",
              "      <td>0</td>\n",
              "      <td>1</td>\n",
              "      <td>0</td>\n",
              "      <td>0</td>\n",
              "      <td>0</td>\n",
              "      <td>0</td>\n",
              "      <td>0</td>\n",
              "      <td>0</td>\n",
              "      <td>0</td>\n",
              "      <td>0</td>\n",
              "      <td>1</td>\n",
              "      <td>0</td>\n",
              "      <td>0</td>\n",
              "      <td>0</td>\n",
              "      <td>0</td>\n",
              "      <td>0</td>\n",
              "      <td>0</td>\n",
              "      <td>0</td>\n",
              "      <td>1</td>\n",
              "      <td>0</td>\n",
              "      <td>0</td>\n",
              "      <td>0</td>\n",
              "      <td>0</td>\n",
              "      <td>0</td>\n",
              "      <td>0</td>\n",
              "      <td>0</td>\n",
              "      <td>0</td>\n",
              "      <td>0</td>\n",
              "      <td>0</td>\n",
              "      <td>1</td>\n",
              "      <td>0</td>\n",
              "      <td>0</td>\n",
              "      <td>0</td>\n",
              "      <td>0</td>\n",
              "      <td>0</td>\n",
              "      <td>0</td>\n",
              "      <td>0</td>\n",
              "      <td>0</td>\n",
              "      <td>0</td>\n",
              "      <td>0</td>\n",
              "      <td>0</td>\n",
              "      <td>0</td>\n",
              "      <td>0</td>\n",
              "      <td>0</td>\n",
              "      <td>0</td>\n",
              "    </tr>\n",
              "    <tr>\n",
              "      <th>1316588</th>\n",
              "      <td>1.00</td>\n",
              "      <td>2.02</td>\n",
              "      <td>1</td>\n",
              "      <td>0</td>\n",
              "      <td>0</td>\n",
              "      <td>1</td>\n",
              "      <td>0</td>\n",
              "      <td>0</td>\n",
              "      <td>1</td>\n",
              "      <td>0</td>\n",
              "      <td>0</td>\n",
              "      <td>0</td>\n",
              "      <td>0</td>\n",
              "      <td>0</td>\n",
              "      <td>0</td>\n",
              "      <td>0</td>\n",
              "      <td>0</td>\n",
              "      <td>1</td>\n",
              "      <td>0</td>\n",
              "      <td>0</td>\n",
              "      <td>0</td>\n",
              "      <td>0</td>\n",
              "      <td>0</td>\n",
              "      <td>0</td>\n",
              "      <td>0</td>\n",
              "      <td>1</td>\n",
              "      <td>0</td>\n",
              "      <td>0</td>\n",
              "      <td>0</td>\n",
              "      <td>0</td>\n",
              "      <td>0</td>\n",
              "      <td>0</td>\n",
              "      <td>0</td>\n",
              "      <td>0</td>\n",
              "      <td>0</td>\n",
              "      <td>0</td>\n",
              "      <td>0</td>\n",
              "      <td>0</td>\n",
              "      <td>0</td>\n",
              "      <td>0</td>\n",
              "      <td>0</td>\n",
              "      <td>0</td>\n",
              "      <td>0</td>\n",
              "      <td>0</td>\n",
              "      <td>0</td>\n",
              "      <td>0</td>\n",
              "      <td>0</td>\n",
              "      <td>0</td>\n",
              "      <td>0</td>\n",
              "      <td>1</td>\n",
              "    </tr>\n",
              "  </tbody>\n",
              "</table>\n",
              "</div>"
            ],
            "text/plain": [
              "         const  distance  ...  pickup_hour_22  pickup_hour_23\n",
              "802829    1.00      2.55  ...               0               0\n",
              "661568    1.00      0.82  ...               0               0\n",
              "376904    1.00     15.66  ...               0               0\n",
              "815680    1.00      1.81  ...               0               0\n",
              "1316588   1.00      2.02  ...               0               1\n",
              "\n",
              "[5 rows x 50 columns]"
            ]
          },
          "metadata": {
            "tags": []
          },
          "execution_count": 124
        }
      ]
    },
    {
      "cell_type": "code",
      "metadata": {
        "id": "KNHzFxzFbzyx",
        "colab_type": "code",
        "colab": {
          "base_uri": "https://localhost:8080/",
          "height": 221
        },
        "outputId": "b257ad03-7593-46c3-e020-d5eaacc66904"
      },
      "source": [
        "test.head()"
      ],
      "execution_count": 126,
      "outputs": [
        {
          "output_type": "execute_result",
          "data": {
            "text/html": [
              "<div>\n",
              "<style scoped>\n",
              "    .dataframe tbody tr th:only-of-type {\n",
              "        vertical-align: middle;\n",
              "    }\n",
              "\n",
              "    .dataframe tbody tr th {\n",
              "        vertical-align: top;\n",
              "    }\n",
              "\n",
              "    .dataframe thead th {\n",
              "        text-align: right;\n",
              "    }\n",
              "</style>\n",
              "<table border=\"1\" class=\"dataframe\">\n",
              "  <thead>\n",
              "    <tr style=\"text-align: right;\">\n",
              "      <th></th>\n",
              "      <th>const</th>\n",
              "      <th>distance</th>\n",
              "      <th>flag_N</th>\n",
              "      <th>flag_Y</th>\n",
              "      <th>vendor_id_1</th>\n",
              "      <th>vendor_id_2</th>\n",
              "      <th>passenger_count_1</th>\n",
              "      <th>passenger_count_2</th>\n",
              "      <th>passenger_count_3</th>\n",
              "      <th>passenger_count_4</th>\n",
              "      <th>passenger_count_5</th>\n",
              "      <th>passenger_count_6</th>\n",
              "      <th>passenger_count_9</th>\n",
              "      <th>month_1</th>\n",
              "      <th>month_2</th>\n",
              "      <th>month_3</th>\n",
              "      <th>month_4</th>\n",
              "      <th>month_5</th>\n",
              "      <th>month_6</th>\n",
              "      <th>weekday_number_0</th>\n",
              "      <th>weekday_number_1</th>\n",
              "      <th>weekday_number_2</th>\n",
              "      <th>weekday_number_3</th>\n",
              "      <th>weekday_number_4</th>\n",
              "      <th>weekday_number_5</th>\n",
              "      <th>weekday_number_6</th>\n",
              "      <th>pickup_hour_0</th>\n",
              "      <th>pickup_hour_1</th>\n",
              "      <th>pickup_hour_2</th>\n",
              "      <th>pickup_hour_3</th>\n",
              "      <th>pickup_hour_4</th>\n",
              "      <th>pickup_hour_5</th>\n",
              "      <th>pickup_hour_6</th>\n",
              "      <th>pickup_hour_7</th>\n",
              "      <th>pickup_hour_8</th>\n",
              "      <th>pickup_hour_9</th>\n",
              "      <th>pickup_hour_10</th>\n",
              "      <th>pickup_hour_11</th>\n",
              "      <th>pickup_hour_12</th>\n",
              "      <th>pickup_hour_13</th>\n",
              "      <th>pickup_hour_14</th>\n",
              "      <th>pickup_hour_15</th>\n",
              "      <th>pickup_hour_16</th>\n",
              "      <th>pickup_hour_17</th>\n",
              "      <th>pickup_hour_18</th>\n",
              "      <th>pickup_hour_19</th>\n",
              "      <th>pickup_hour_20</th>\n",
              "      <th>pickup_hour_21</th>\n",
              "      <th>pickup_hour_22</th>\n",
              "      <th>pickup_hour_23</th>\n",
              "    </tr>\n",
              "  </thead>\n",
              "  <tbody>\n",
              "    <tr>\n",
              "      <th>0</th>\n",
              "      <td>1.00</td>\n",
              "      <td>2.75</td>\n",
              "      <td>1</td>\n",
              "      <td>0</td>\n",
              "      <td>1</td>\n",
              "      <td>0</td>\n",
              "      <td>1</td>\n",
              "      <td>0</td>\n",
              "      <td>0</td>\n",
              "      <td>0</td>\n",
              "      <td>0</td>\n",
              "      <td>0</td>\n",
              "      <td>0</td>\n",
              "      <td>0</td>\n",
              "      <td>0</td>\n",
              "      <td>0</td>\n",
              "      <td>0</td>\n",
              "      <td>0</td>\n",
              "      <td>1</td>\n",
              "      <td>0</td>\n",
              "      <td>0</td>\n",
              "      <td>0</td>\n",
              "      <td>1</td>\n",
              "      <td>0</td>\n",
              "      <td>0</td>\n",
              "      <td>0</td>\n",
              "      <td>0</td>\n",
              "      <td>0</td>\n",
              "      <td>0</td>\n",
              "      <td>0</td>\n",
              "      <td>0</td>\n",
              "      <td>0</td>\n",
              "      <td>0</td>\n",
              "      <td>0</td>\n",
              "      <td>0</td>\n",
              "      <td>0</td>\n",
              "      <td>0</td>\n",
              "      <td>0</td>\n",
              "      <td>0</td>\n",
              "      <td>0</td>\n",
              "      <td>0</td>\n",
              "      <td>0</td>\n",
              "      <td>0</td>\n",
              "      <td>0</td>\n",
              "      <td>0</td>\n",
              "      <td>0</td>\n",
              "      <td>0</td>\n",
              "      <td>0</td>\n",
              "      <td>0</td>\n",
              "      <td>1</td>\n",
              "    </tr>\n",
              "    <tr>\n",
              "      <th>1</th>\n",
              "      <td>1.00</td>\n",
              "      <td>2.76</td>\n",
              "      <td>1</td>\n",
              "      <td>0</td>\n",
              "      <td>1</td>\n",
              "      <td>0</td>\n",
              "      <td>1</td>\n",
              "      <td>0</td>\n",
              "      <td>0</td>\n",
              "      <td>0</td>\n",
              "      <td>0</td>\n",
              "      <td>0</td>\n",
              "      <td>0</td>\n",
              "      <td>0</td>\n",
              "      <td>0</td>\n",
              "      <td>0</td>\n",
              "      <td>0</td>\n",
              "      <td>0</td>\n",
              "      <td>1</td>\n",
              "      <td>0</td>\n",
              "      <td>0</td>\n",
              "      <td>0</td>\n",
              "      <td>1</td>\n",
              "      <td>0</td>\n",
              "      <td>0</td>\n",
              "      <td>0</td>\n",
              "      <td>0</td>\n",
              "      <td>0</td>\n",
              "      <td>0</td>\n",
              "      <td>0</td>\n",
              "      <td>0</td>\n",
              "      <td>0</td>\n",
              "      <td>0</td>\n",
              "      <td>0</td>\n",
              "      <td>0</td>\n",
              "      <td>0</td>\n",
              "      <td>0</td>\n",
              "      <td>0</td>\n",
              "      <td>0</td>\n",
              "      <td>0</td>\n",
              "      <td>0</td>\n",
              "      <td>0</td>\n",
              "      <td>0</td>\n",
              "      <td>0</td>\n",
              "      <td>0</td>\n",
              "      <td>0</td>\n",
              "      <td>0</td>\n",
              "      <td>0</td>\n",
              "      <td>0</td>\n",
              "      <td>1</td>\n",
              "    </tr>\n",
              "    <tr>\n",
              "      <th>2</th>\n",
              "      <td>1.00</td>\n",
              "      <td>1.31</td>\n",
              "      <td>1</td>\n",
              "      <td>0</td>\n",
              "      <td>1</td>\n",
              "      <td>0</td>\n",
              "      <td>1</td>\n",
              "      <td>0</td>\n",
              "      <td>0</td>\n",
              "      <td>0</td>\n",
              "      <td>0</td>\n",
              "      <td>0</td>\n",
              "      <td>0</td>\n",
              "      <td>0</td>\n",
              "      <td>0</td>\n",
              "      <td>0</td>\n",
              "      <td>0</td>\n",
              "      <td>0</td>\n",
              "      <td>1</td>\n",
              "      <td>0</td>\n",
              "      <td>0</td>\n",
              "      <td>0</td>\n",
              "      <td>1</td>\n",
              "      <td>0</td>\n",
              "      <td>0</td>\n",
              "      <td>0</td>\n",
              "      <td>0</td>\n",
              "      <td>0</td>\n",
              "      <td>0</td>\n",
              "      <td>0</td>\n",
              "      <td>0</td>\n",
              "      <td>0</td>\n",
              "      <td>0</td>\n",
              "      <td>0</td>\n",
              "      <td>0</td>\n",
              "      <td>0</td>\n",
              "      <td>0</td>\n",
              "      <td>0</td>\n",
              "      <td>0</td>\n",
              "      <td>0</td>\n",
              "      <td>0</td>\n",
              "      <td>0</td>\n",
              "      <td>0</td>\n",
              "      <td>0</td>\n",
              "      <td>0</td>\n",
              "      <td>0</td>\n",
              "      <td>0</td>\n",
              "      <td>0</td>\n",
              "      <td>0</td>\n",
              "      <td>1</td>\n",
              "    </tr>\n",
              "    <tr>\n",
              "      <th>3</th>\n",
              "      <td>1.00</td>\n",
              "      <td>5.27</td>\n",
              "      <td>1</td>\n",
              "      <td>0</td>\n",
              "      <td>0</td>\n",
              "      <td>1</td>\n",
              "      <td>1</td>\n",
              "      <td>0</td>\n",
              "      <td>0</td>\n",
              "      <td>0</td>\n",
              "      <td>0</td>\n",
              "      <td>0</td>\n",
              "      <td>0</td>\n",
              "      <td>0</td>\n",
              "      <td>0</td>\n",
              "      <td>0</td>\n",
              "      <td>0</td>\n",
              "      <td>0</td>\n",
              "      <td>1</td>\n",
              "      <td>0</td>\n",
              "      <td>0</td>\n",
              "      <td>0</td>\n",
              "      <td>1</td>\n",
              "      <td>0</td>\n",
              "      <td>0</td>\n",
              "      <td>0</td>\n",
              "      <td>0</td>\n",
              "      <td>0</td>\n",
              "      <td>0</td>\n",
              "      <td>0</td>\n",
              "      <td>0</td>\n",
              "      <td>0</td>\n",
              "      <td>0</td>\n",
              "      <td>0</td>\n",
              "      <td>0</td>\n",
              "      <td>0</td>\n",
              "      <td>0</td>\n",
              "      <td>0</td>\n",
              "      <td>0</td>\n",
              "      <td>0</td>\n",
              "      <td>0</td>\n",
              "      <td>0</td>\n",
              "      <td>0</td>\n",
              "      <td>0</td>\n",
              "      <td>0</td>\n",
              "      <td>0</td>\n",
              "      <td>0</td>\n",
              "      <td>0</td>\n",
              "      <td>0</td>\n",
              "      <td>1</td>\n",
              "    </tr>\n",
              "    <tr>\n",
              "      <th>4</th>\n",
              "      <td>1.00</td>\n",
              "      <td>0.96</td>\n",
              "      <td>1</td>\n",
              "      <td>0</td>\n",
              "      <td>1</td>\n",
              "      <td>0</td>\n",
              "      <td>1</td>\n",
              "      <td>0</td>\n",
              "      <td>0</td>\n",
              "      <td>0</td>\n",
              "      <td>0</td>\n",
              "      <td>0</td>\n",
              "      <td>0</td>\n",
              "      <td>0</td>\n",
              "      <td>0</td>\n",
              "      <td>0</td>\n",
              "      <td>0</td>\n",
              "      <td>0</td>\n",
              "      <td>1</td>\n",
              "      <td>0</td>\n",
              "      <td>0</td>\n",
              "      <td>0</td>\n",
              "      <td>1</td>\n",
              "      <td>0</td>\n",
              "      <td>0</td>\n",
              "      <td>0</td>\n",
              "      <td>0</td>\n",
              "      <td>0</td>\n",
              "      <td>0</td>\n",
              "      <td>0</td>\n",
              "      <td>0</td>\n",
              "      <td>0</td>\n",
              "      <td>0</td>\n",
              "      <td>0</td>\n",
              "      <td>0</td>\n",
              "      <td>0</td>\n",
              "      <td>0</td>\n",
              "      <td>0</td>\n",
              "      <td>0</td>\n",
              "      <td>0</td>\n",
              "      <td>0</td>\n",
              "      <td>0</td>\n",
              "      <td>0</td>\n",
              "      <td>0</td>\n",
              "      <td>0</td>\n",
              "      <td>0</td>\n",
              "      <td>0</td>\n",
              "      <td>0</td>\n",
              "      <td>0</td>\n",
              "      <td>1</td>\n",
              "    </tr>\n",
              "  </tbody>\n",
              "</table>\n",
              "</div>"
            ],
            "text/plain": [
              "   const  distance  flag_N  ...  pickup_hour_21  pickup_hour_22  pickup_hour_23\n",
              "0   1.00      2.75       1  ...               0               0               1\n",
              "1   1.00      2.76       1  ...               0               0               1\n",
              "2   1.00      1.31       1  ...               0               0               1\n",
              "3   1.00      5.27       1  ...               0               0               1\n",
              "4   1.00      0.96       1  ...               0               0               1\n",
              "\n",
              "[5 rows x 50 columns]"
            ]
          },
          "metadata": {
            "tags": []
          },
          "execution_count": 126
        }
      ]
    },
    {
      "cell_type": "code",
      "metadata": {
        "id": "R1Acqh-gb5tI",
        "colab_type": "code",
        "colab": {}
      },
      "source": [
        "#Split data from the all features\n",
        "X_train, X_test, Y_train, Y_test = train_test_split(X_train_all,y_train_all, random_state=4, test_size=0.2)"
      ],
      "execution_count": 0,
      "outputs": []
    },
    {
      "cell_type": "code",
      "metadata": {
        "id": "qOAxWKSKb7g_",
        "colab_type": "code",
        "colab": {}
      },
      "source": [
        "Test_master = test"
      ],
      "execution_count": 0,
      "outputs": []
    },
    {
      "cell_type": "code",
      "metadata": {
        "id": "tqaHJPmjb9ub",
        "colab_type": "code",
        "colab": {
          "base_uri": "https://localhost:8080/",
          "height": 69
        },
        "outputId": "737ac099-1b0c-407d-cc35-559f64a0ef1a"
      },
      "source": [
        "dtrain = xgb.DMatrix(X_train, label=Y_train)\n",
        "dvalid = xgb.DMatrix(X_test, label=Y_test)\n",
        "dtest = xgb.DMatrix(Test_master)\n",
        "watchlist = [(dtrain, 'train'), (dvalid, 'valid')]"
      ],
      "execution_count": 129,
      "outputs": [
        {
          "output_type": "stream",
          "text": [
            "/usr/local/lib/python3.6/dist-packages/xgboost/core.py:587: FutureWarning: Series.base is deprecated and will be removed in a future version\n",
            "  if getattr(data, 'base', None) is not None and \\\n"
          ],
          "name": "stderr"
        }
      ]
    },
    {
      "cell_type": "code",
      "metadata": {
        "id": "lhRXH8bYb-Ix",
        "colab_type": "code",
        "colab": {
          "base_uri": "https://localhost:8080/",
          "height": 247
        },
        "outputId": "02d8e0c4-05bf-49ab-9bed-7e24156220a6"
      },
      "source": [
        "xgb_pars = {'min_child_weight': 1, 'eta': 0.5, 'colsample_bytree': 0.9, \n",
        "            'max_depth': 6,\n",
        "'subsample': 0.9, 'lambda': 1., 'nthread': -1, 'booster' : 'gbtree', 'silent': 1,\n",
        "'eval_metric': 'rmse', 'objective': 'reg:linear'}\n",
        "model = xgb.train(xgb_pars, dtrain, 10, watchlist, early_stopping_rounds=2,\n",
        "      maximize=False, verbose_eval=1)\n",
        "print('Modeling RMSLE %.5f' % model.best_score)"
      ],
      "execution_count": 130,
      "outputs": [
        {
          "output_type": "stream",
          "text": [
            "[0]\ttrain-rmse:3185.79\tvalid-rmse:3134.27\n",
            "Multiple eval metrics have been passed: 'valid-rmse' will be used for early stopping.\n",
            "\n",
            "Will train until valid-rmse hasn't improved in 2 rounds.\n",
            "[1]\ttrain-rmse:3145.64\tvalid-rmse:3098.24\n",
            "[2]\ttrain-rmse:3132.25\tvalid-rmse:3089.18\n",
            "[3]\ttrain-rmse:3127.1\tvalid-rmse:3086.3\n",
            "[4]\ttrain-rmse:3123.12\tvalid-rmse:3085.57\n",
            "[5]\ttrain-rmse:3119.96\tvalid-rmse:3085.5\n",
            "[6]\ttrain-rmse:3115.95\tvalid-rmse:3085.19\n",
            "[7]\ttrain-rmse:3110.9\tvalid-rmse:3085.29\n",
            "[8]\ttrain-rmse:3108.65\tvalid-rmse:3085.02\n",
            "[9]\ttrain-rmse:3105.83\tvalid-rmse:3085.23\n",
            "Modeling RMSLE 3085.01733\n"
          ],
          "name": "stdout"
        }
      ]
    },
    {
      "cell_type": "markdown",
      "metadata": {
        "id": "MDmaU17DcC6X",
        "colab_type": "text"
      },
      "source": [
        "Out of interest, we can investigate the importance of each feature, to understand what affects the trip duration the most significantly. Here's how XGBoost allows us to do it:"
      ]
    },
    {
      "cell_type": "code",
      "metadata": {
        "id": "51O8EzwccADO",
        "colab_type": "code",
        "colab": {
          "base_uri": "https://localhost:8080/",
          "height": 316
        },
        "outputId": "62c1b745-e57a-4808-ae3b-6d2b8b2c6872"
      },
      "source": [
        "xgb.plot_importance(model, max_num_features=28, height=0.7)"
      ],
      "execution_count": 131,
      "outputs": [
        {
          "output_type": "execute_result",
          "data": {
            "text/plain": [
              "<matplotlib.axes._subplots.AxesSubplot at 0x7f6711969d30>"
            ]
          },
          "metadata": {
            "tags": []
          },
          "execution_count": 131
        },
        {
          "output_type": "display_data",
          "data": {
            "image/png": "[encoded data removed]",
            "text/plain": [
              "<Figure size 432x288 with 1 Axes>"
            ]
          },
          "metadata": {
            "tags": []
          }
        }
      ]
    },
    {
      "cell_type": "markdown",
      "metadata": {
        "id": "9YnpaAc8biT8",
        "colab_type": "text"
      },
      "source": [
        "# Conclusion and Submission\n",
        "\n",
        "\n",
        "---\n",
        "\n"
      ]
    },
    {
      "cell_type": "markdown",
      "metadata": {
        "id": "O1PojvcgcH6Z",
        "colab_type": "text"
      },
      "source": [
        "Based on the RMSE of each models, we have decided to pick the one with lowest RMSE - XBGoost using selected features\n",
        "\n"
      ]
    },
    {
      "cell_type": "code",
      "metadata": {
        "id": "Vn8zhL_mcIax",
        "colab_type": "code",
        "colab": {}
      },
      "source": [
        "pred = model.predict(dtest)"
      ],
      "execution_count": 0,
      "outputs": []
    },
    {
      "cell_type": "code",
      "metadata": {
        "id": "qj3Ws_VbcKhT",
        "colab_type": "code",
        "colab": {}
      },
      "source": [
        "submission = pd.concat([test_ID, pd.DataFrame(pred)], axis=1)\n",
        "submission.columns = ['id','trip_duration']\n",
        "submission['trip_duration'] = submission.apply(lambda x : 1 if (x['trip_duration'] <= 0) else x['trip_duration'], axis = 1)\n",
        "submission.to_csv(\"submission.csv\", index=False)"
      ],
      "execution_count": 0,
      "outputs": []
    }
  ]
}